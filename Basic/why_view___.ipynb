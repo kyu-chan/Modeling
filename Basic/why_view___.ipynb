{
 "cells": [
  {
   "cell_type": "code",
   "execution_count": 13,
   "metadata": {},
   "outputs": [],
   "source": [
    "import pandas as pd\n",
    "import sys\n",
    "import os\n",
    "import matplotlib as pt\n",
    "import matplotlib.pyplot as plt\n",
    "pt.use(\"Qt5Agg\") ##플랏\n",
    "sys.path.append(r'C:\\Users\\pc\\Desktop\\stock\\Modeling\\Basic\\wrapper')\n",
    "\n",
    "from wrapper import data_pred\n",
    "from wrapper import visualization\n",
    "\n",
    "os.chdir(r'C:\\Users\\pc\\Desktop\\stock\\Modeling\\Basic')\n",
    "cd ='KOSPI 200'\n",
    "path = 'C:/Users/pc/Desktop/stock/Modeling/Basic/data/'\n",
    "\n",
    "## 이용할 인덱스 포트폴리오\n",
    "portfolio = {\n",
    "    'World indices' : ['Kospi 200', 'S&P 500', 'Nikkei 225', 'CSI 300']\n",
    "}   ## 딕셔너리 형태\n",
    "p_name = 'World indices'\n",
    "p_cd = portfolio[p_name]\n",
    "\n",
    "###모듈\n",
    "ld = data_pred.LoadData()\n",
    "df = ld.read_master_file(path, p_name)\n",
    "#print(df.head())\n",
    "\n",
    "##단기, 중기 기준\n",
    "short = 5\n",
    "mid = 20\n",
    "\n",
    "##ma 데이터프레임을 구축\n",
    "ma = pd.DataFrame()\n",
    "ma[cd] = df[cd]   ## 시세를 일단 넣어주고\n",
    "ma['short'] = df[cd].rolling(short).mean()  ### rolling으로 단위를 계속 유지하면서 mean계산을 쌓아나감\n",
    "ma['long'] = df[cd].rolling(mid).mean()    ### 판다스 기능이니 유용하게 쓸 것\n",
    "#print(ma.head(20))\n",
    "\n",
    "###기준일자 설정\n",
    "base_date = '2018-01-08'\n",
    "ma = ma[base_date:].copy()\n",
    "#print(ma.head())\n",
    "\n",
    "### 시각화\n",
    "\n",
    "v = visualization.Visualize()\n",
    "v.price_view(ma, base_date, [cd], (10,2), make_file=False)\n",
    "plt.show()"
   ]
  }
 ],
 "metadata": {
  "kernelspec": {
   "display_name": "Python 3",
   "language": "python",
   "name": "python3"
  },
  "language_info": {
   "codemirror_mode": {
    "name": "ipython",
    "version": 3
   },
   "file_extension": ".py",
   "mimetype": "text/x-python",
   "name": "python",
   "nbconvert_exporter": "python",
   "pygments_lexer": "ipython3",
   "version": "3.7.6"
  }
 },
 "nbformat": 4,
 "nbformat_minor": 4
}
