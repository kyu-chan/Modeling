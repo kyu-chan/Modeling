{
 "cells": [
  {
   "cell_type": "code",
   "execution_count": 3,
   "metadata": {},
   "outputs": [],
   "source": [
    "##라이브러리 불러오기\n",
    "import pandas as pd\n",
    "import matplotlib.pyplot as plt\n",
    "import seaborn as sns"
   ]
  },
  {
   "cell_type": "code",
   "execution_count": 8,
   "metadata": {},
   "outputs": [],
   "source": [
    "data = pd.read_csv('./data/boston.csv')"
   ]
  },
  {
   "cell_type": "code",
   "execution_count": 9,
   "metadata": {},
   "outputs": [
    {
     "data": {
      "text/html": [
       "<div>\n",
       "<style scoped>\n",
       "    .dataframe tbody tr th:only-of-type {\n",
       "        vertical-align: middle;\n",
       "    }\n",
       "\n",
       "    .dataframe tbody tr th {\n",
       "        vertical-align: top;\n",
       "    }\n",
       "\n",
       "    .dataframe thead th {\n",
       "        text-align: right;\n",
       "    }\n",
       "</style>\n",
       "<table border=\"1\" class=\"dataframe\">\n",
       "  <thead>\n",
       "    <tr style=\"text-align: right;\">\n",
       "      <th></th>\n",
       "      <th>crim</th>\n",
       "      <th>zn</th>\n",
       "      <th>indus</th>\n",
       "      <th>chas</th>\n",
       "      <th>nox</th>\n",
       "      <th>rm</th>\n",
       "      <th>age</th>\n",
       "      <th>dis</th>\n",
       "      <th>rad</th>\n",
       "      <th>tax</th>\n",
       "      <th>ptratio</th>\n",
       "      <th>b</th>\n",
       "      <th>lstat</th>\n",
       "      <th>medv</th>\n",
       "    </tr>\n",
       "  </thead>\n",
       "  <tbody>\n",
       "    <tr>\n",
       "      <th>0</th>\n",
       "      <td>0.00632</td>\n",
       "      <td>18.0</td>\n",
       "      <td>2.31</td>\n",
       "      <td>0.0</td>\n",
       "      <td>0.538</td>\n",
       "      <td>6.575</td>\n",
       "      <td>65.2</td>\n",
       "      <td>4.0900</td>\n",
       "      <td>1.0</td>\n",
       "      <td>296.0</td>\n",
       "      <td>15.3</td>\n",
       "      <td>396.90</td>\n",
       "      <td>4.98</td>\n",
       "      <td>24.0</td>\n",
       "    </tr>\n",
       "    <tr>\n",
       "      <th>1</th>\n",
       "      <td>0.02731</td>\n",
       "      <td>0.0</td>\n",
       "      <td>7.07</td>\n",
       "      <td>0.0</td>\n",
       "      <td>0.469</td>\n",
       "      <td>6.421</td>\n",
       "      <td>78.9</td>\n",
       "      <td>4.9671</td>\n",
       "      <td>2.0</td>\n",
       "      <td>242.0</td>\n",
       "      <td>17.8</td>\n",
       "      <td>396.90</td>\n",
       "      <td>9.14</td>\n",
       "      <td>21.6</td>\n",
       "    </tr>\n",
       "    <tr>\n",
       "      <th>2</th>\n",
       "      <td>0.02729</td>\n",
       "      <td>0.0</td>\n",
       "      <td>7.07</td>\n",
       "      <td>0.0</td>\n",
       "      <td>0.469</td>\n",
       "      <td>7.185</td>\n",
       "      <td>61.1</td>\n",
       "      <td>4.9671</td>\n",
       "      <td>2.0</td>\n",
       "      <td>242.0</td>\n",
       "      <td>17.8</td>\n",
       "      <td>392.83</td>\n",
       "      <td>4.03</td>\n",
       "      <td>34.7</td>\n",
       "    </tr>\n",
       "    <tr>\n",
       "      <th>3</th>\n",
       "      <td>0.03237</td>\n",
       "      <td>0.0</td>\n",
       "      <td>2.18</td>\n",
       "      <td>0.0</td>\n",
       "      <td>0.458</td>\n",
       "      <td>6.998</td>\n",
       "      <td>45.8</td>\n",
       "      <td>6.0622</td>\n",
       "      <td>3.0</td>\n",
       "      <td>222.0</td>\n",
       "      <td>18.7</td>\n",
       "      <td>394.63</td>\n",
       "      <td>2.94</td>\n",
       "      <td>33.4</td>\n",
       "    </tr>\n",
       "    <tr>\n",
       "      <th>4</th>\n",
       "      <td>0.06905</td>\n",
       "      <td>0.0</td>\n",
       "      <td>2.18</td>\n",
       "      <td>0.0</td>\n",
       "      <td>0.458</td>\n",
       "      <td>7.147</td>\n",
       "      <td>54.2</td>\n",
       "      <td>6.0622</td>\n",
       "      <td>3.0</td>\n",
       "      <td>222.0</td>\n",
       "      <td>18.7</td>\n",
       "      <td>396.90</td>\n",
       "      <td>5.33</td>\n",
       "      <td>36.2</td>\n",
       "    </tr>\n",
       "  </tbody>\n",
       "</table>\n",
       "</div>"
      ],
      "text/plain": [
       "      crim    zn  indus  chas    nox     rm   age     dis  rad    tax  \\\n",
       "0  0.00632  18.0   2.31   0.0  0.538  6.575  65.2  4.0900  1.0  296.0   \n",
       "1  0.02731   0.0   7.07   0.0  0.469  6.421  78.9  4.9671  2.0  242.0   \n",
       "2  0.02729   0.0   7.07   0.0  0.469  7.185  61.1  4.9671  2.0  242.0   \n",
       "3  0.03237   0.0   2.18   0.0  0.458  6.998  45.8  6.0622  3.0  222.0   \n",
       "4  0.06905   0.0   2.18   0.0  0.458  7.147  54.2  6.0622  3.0  222.0   \n",
       "\n",
       "   ptratio       b  lstat  medv  \n",
       "0     15.3  396.90   4.98  24.0  \n",
       "1     17.8  396.90   9.14  21.6  \n",
       "2     17.8  392.83   4.03  34.7  \n",
       "3     18.7  394.63   2.94  33.4  \n",
       "4     18.7  396.90   5.33  36.2  "
      ]
     },
     "execution_count": 9,
     "metadata": {},
     "output_type": "execute_result"
    }
   ],
   "source": [
    "data.head()"
   ]
  },
  {
   "cell_type": "code",
   "execution_count": 10,
   "metadata": {},
   "outputs": [
    {
     "name": "stdout",
     "output_type": "stream",
     "text": [
      "<class 'pandas.core.frame.DataFrame'>\n",
      "RangeIndex: 506 entries, 0 to 505\n",
      "Data columns (total 14 columns):\n",
      " #   Column   Non-Null Count  Dtype  \n",
      "---  ------   --------------  -----  \n",
      " 0   crim     506 non-null    float64\n",
      " 1   zn       506 non-null    float64\n",
      " 2   indus    506 non-null    float64\n",
      " 3   chas     506 non-null    float64\n",
      " 4   nox      506 non-null    float64\n",
      " 5   rm       506 non-null    float64\n",
      " 6   age      506 non-null    float64\n",
      " 7   dis      506 non-null    float64\n",
      " 8   rad      506 non-null    float64\n",
      " 9   tax      506 non-null    float64\n",
      " 10  ptratio  506 non-null    float64\n",
      " 11  b        506 non-null    float64\n",
      " 12  lstat    506 non-null    float64\n",
      " 13  medv     506 non-null    float64\n",
      "dtypes: float64(14)\n",
      "memory usage: 55.5 KB\n"
     ]
    }
   ],
   "source": [
    "data.info()"
   ]
  },
  {
   "cell_type": "code",
   "execution_count": 11,
   "metadata": {},
   "outputs": [],
   "source": [
    "##Feature Selection\n",
    "#상관계수와 공분산 기준으로 해보자  - 그러면 범주형데이터, 비정형 데이터는 못쓰겠지..?\n",
    "del data['chas']\n",
    "##del로 제거 하지만 데이터 제거는 굉장히 신중해야함\n",
    "##연습이니 일단 삭제해보는데 원래는 정말 필요없는지 확실한 검증이 필요함\n",
    "#가설 1. 범죄율과 집값간의 관계?"
   ]
  },
  {
   "cell_type": "code",
   "execution_count": 12,
   "metadata": {},
   "outputs": [
    {
     "data": {
      "text/plain": [
       "<seaborn.axisgrid.JointGrid at 0x2ac0bd08808>"
      ]
     },
     "execution_count": 12,
     "metadata": {},
     "output_type": "execute_result"
    },
    {
     "data": {
      "image/png": "[encoded data removed]",
      "text/plain": [
       "<Figure size 432x432 with 3 Axes>"
      ]
     },
     "metadata": {
      "needs_background": "light"
     },
     "output_type": "display_data"
    }
   ],
   "source": [
    "##그래프를 일단 그래요자\n",
    "sns.jointplot(data = data, x= 'crim', y = 'medv', kind = 'regg')"
   ]
  },
  {
   "cell_type": "code",
   "execution_count": 13,
   "metadata": {},
   "outputs": [
    {
     "data": {
      "text/html": [
       "<div>\n",
       "<style scoped>\n",
       "    .dataframe tbody tr th:only-of-type {\n",
       "        vertical-align: middle;\n",
       "    }\n",
       "\n",
       "    .dataframe tbody tr th {\n",
       "        vertical-align: top;\n",
       "    }\n",
       "\n",
       "    .dataframe thead th {\n",
       "        text-align: right;\n",
       "    }\n",
       "</style>\n",
       "<table border=\"1\" class=\"dataframe\">\n",
       "  <thead>\n",
       "    <tr style=\"text-align: right;\">\n",
       "      <th></th>\n",
       "      <th>crim</th>\n",
       "      <th>zn</th>\n",
       "      <th>indus</th>\n",
       "      <th>nox</th>\n",
       "      <th>rm</th>\n",
       "      <th>age</th>\n",
       "      <th>dis</th>\n",
       "      <th>rad</th>\n",
       "      <th>tax</th>\n",
       "      <th>ptratio</th>\n",
       "      <th>b</th>\n",
       "      <th>lstat</th>\n",
       "      <th>medv</th>\n",
       "    </tr>\n",
       "  </thead>\n",
       "  <tbody>\n",
       "    <tr>\n",
       "      <th>crim</th>\n",
       "      <td>73.986578</td>\n",
       "      <td>-40.215956</td>\n",
       "      <td>23.992339</td>\n",
       "      <td>0.419594</td>\n",
       "      <td>-1.325038</td>\n",
       "      <td>85.405322</td>\n",
       "      <td>-6.876722</td>\n",
       "      <td>46.847761</td>\n",
       "      <td>844.821538</td>\n",
       "      <td>5.399331</td>\n",
       "      <td>-302.381816</td>\n",
       "      <td>27.986168</td>\n",
       "      <td>-30.718508</td>\n",
       "    </tr>\n",
       "    <tr>\n",
       "      <th>zn</th>\n",
       "      <td>-40.215956</td>\n",
       "      <td>543.936814</td>\n",
       "      <td>-85.412648</td>\n",
       "      <td>-1.396148</td>\n",
       "      <td>5.112513</td>\n",
       "      <td>-373.901548</td>\n",
       "      <td>32.629304</td>\n",
       "      <td>-63.348695</td>\n",
       "      <td>-1236.453735</td>\n",
       "      <td>-19.776571</td>\n",
       "      <td>373.721402</td>\n",
       "      <td>-68.783037</td>\n",
       "      <td>77.315176</td>\n",
       "    </tr>\n",
       "    <tr>\n",
       "      <th>indus</th>\n",
       "      <td>23.992339</td>\n",
       "      <td>-85.412648</td>\n",
       "      <td>47.064442</td>\n",
       "      <td>0.607074</td>\n",
       "      <td>-1.887957</td>\n",
       "      <td>124.513903</td>\n",
       "      <td>-10.228097</td>\n",
       "      <td>35.549971</td>\n",
       "      <td>833.360290</td>\n",
       "      <td>5.692104</td>\n",
       "      <td>-223.579756</td>\n",
       "      <td>29.580270</td>\n",
       "      <td>-30.520823</td>\n",
       "    </tr>\n",
       "    <tr>\n",
       "      <th>nox</th>\n",
       "      <td>0.419594</td>\n",
       "      <td>-1.396148</td>\n",
       "      <td>0.607074</td>\n",
       "      <td>0.013428</td>\n",
       "      <td>-0.024603</td>\n",
       "      <td>2.385927</td>\n",
       "      <td>-0.187696</td>\n",
       "      <td>0.616929</td>\n",
       "      <td>13.046286</td>\n",
       "      <td>0.047397</td>\n",
       "      <td>-4.020570</td>\n",
       "      <td>0.488946</td>\n",
       "      <td>-0.455412</td>\n",
       "    </tr>\n",
       "    <tr>\n",
       "      <th>rm</th>\n",
       "      <td>-1.325038</td>\n",
       "      <td>5.112513</td>\n",
       "      <td>-1.887957</td>\n",
       "      <td>-0.024603</td>\n",
       "      <td>0.493671</td>\n",
       "      <td>-4.751929</td>\n",
       "      <td>0.303663</td>\n",
       "      <td>-1.283815</td>\n",
       "      <td>-34.583448</td>\n",
       "      <td>-0.540763</td>\n",
       "      <td>8.215006</td>\n",
       "      <td>-3.079741</td>\n",
       "      <td>4.493446</td>\n",
       "    </tr>\n",
       "    <tr>\n",
       "      <th>age</th>\n",
       "      <td>85.405322</td>\n",
       "      <td>-373.901548</td>\n",
       "      <td>124.513903</td>\n",
       "      <td>2.385927</td>\n",
       "      <td>-4.751929</td>\n",
       "      <td>792.358399</td>\n",
       "      <td>-44.329379</td>\n",
       "      <td>111.770846</td>\n",
       "      <td>2402.690122</td>\n",
       "      <td>15.936921</td>\n",
       "      <td>-702.940328</td>\n",
       "      <td>121.077725</td>\n",
       "      <td>-97.589017</td>\n",
       "    </tr>\n",
       "    <tr>\n",
       "      <th>dis</th>\n",
       "      <td>-6.876722</td>\n",
       "      <td>32.629304</td>\n",
       "      <td>-10.228097</td>\n",
       "      <td>-0.187696</td>\n",
       "      <td>0.303663</td>\n",
       "      <td>-44.329379</td>\n",
       "      <td>4.434015</td>\n",
       "      <td>-9.068252</td>\n",
       "      <td>-189.664592</td>\n",
       "      <td>-1.059775</td>\n",
       "      <td>56.040356</td>\n",
       "      <td>-7.473329</td>\n",
       "      <td>4.840229</td>\n",
       "    </tr>\n",
       "    <tr>\n",
       "      <th>rad</th>\n",
       "      <td>46.847761</td>\n",
       "      <td>-63.348695</td>\n",
       "      <td>35.549971</td>\n",
       "      <td>0.616929</td>\n",
       "      <td>-1.283815</td>\n",
       "      <td>111.770846</td>\n",
       "      <td>-9.068252</td>\n",
       "      <td>75.816366</td>\n",
       "      <td>1335.756577</td>\n",
       "      <td>8.760716</td>\n",
       "      <td>-353.276219</td>\n",
       "      <td>30.385442</td>\n",
       "      <td>-30.561228</td>\n",
       "    </tr>\n",
       "    <tr>\n",
       "      <th>tax</th>\n",
       "      <td>844.821538</td>\n",
       "      <td>-1236.453735</td>\n",
       "      <td>833.360290</td>\n",
       "      <td>13.046286</td>\n",
       "      <td>-34.583448</td>\n",
       "      <td>2402.690122</td>\n",
       "      <td>-189.664592</td>\n",
       "      <td>1335.756577</td>\n",
       "      <td>28404.759488</td>\n",
       "      <td>168.153141</td>\n",
       "      <td>-6797.911215</td>\n",
       "      <td>654.714520</td>\n",
       "      <td>-726.255716</td>\n",
       "    </tr>\n",
       "    <tr>\n",
       "      <th>ptratio</th>\n",
       "      <td>5.399331</td>\n",
       "      <td>-19.776571</td>\n",
       "      <td>5.692104</td>\n",
       "      <td>0.047397</td>\n",
       "      <td>-0.540763</td>\n",
       "      <td>15.936921</td>\n",
       "      <td>-1.059775</td>\n",
       "      <td>8.760716</td>\n",
       "      <td>168.153141</td>\n",
       "      <td>4.686989</td>\n",
       "      <td>-35.059527</td>\n",
       "      <td>5.782729</td>\n",
       "      <td>-10.110657</td>\n",
       "    </tr>\n",
       "    <tr>\n",
       "      <th>b</th>\n",
       "      <td>-302.381816</td>\n",
       "      <td>373.721402</td>\n",
       "      <td>-223.579756</td>\n",
       "      <td>-4.020570</td>\n",
       "      <td>8.215006</td>\n",
       "      <td>-702.940328</td>\n",
       "      <td>56.040356</td>\n",
       "      <td>-353.276219</td>\n",
       "      <td>-6797.911215</td>\n",
       "      <td>-35.059527</td>\n",
       "      <td>8334.752263</td>\n",
       "      <td>-238.667516</td>\n",
       "      <td>279.989834</td>\n",
       "    </tr>\n",
       "    <tr>\n",
       "      <th>lstat</th>\n",
       "      <td>27.986168</td>\n",
       "      <td>-68.783037</td>\n",
       "      <td>29.580270</td>\n",
       "      <td>0.488946</td>\n",
       "      <td>-3.079741</td>\n",
       "      <td>121.077725</td>\n",
       "      <td>-7.473329</td>\n",
       "      <td>30.385442</td>\n",
       "      <td>654.714520</td>\n",
       "      <td>5.782729</td>\n",
       "      <td>-238.667516</td>\n",
       "      <td>50.994760</td>\n",
       "      <td>-48.447538</td>\n",
       "    </tr>\n",
       "    <tr>\n",
       "      <th>medv</th>\n",
       "      <td>-30.718508</td>\n",
       "      <td>77.315176</td>\n",
       "      <td>-30.520823</td>\n",
       "      <td>-0.455412</td>\n",
       "      <td>4.493446</td>\n",
       "      <td>-97.589017</td>\n",
       "      <td>4.840229</td>\n",
       "      <td>-30.561228</td>\n",
       "      <td>-726.255716</td>\n",
       "      <td>-10.110657</td>\n",
       "      <td>279.989834</td>\n",
       "      <td>-48.447538</td>\n",
       "      <td>84.586724</td>\n",
       "    </tr>\n",
       "  </tbody>\n",
       "</table>\n",
       "</div>"
      ],
      "text/plain": [
       "               crim           zn       indus        nox         rm  \\\n",
       "crim      73.986578   -40.215956   23.992339   0.419594  -1.325038   \n",
       "zn       -40.215956   543.936814  -85.412648  -1.396148   5.112513   \n",
       "indus     23.992339   -85.412648   47.064442   0.607074  -1.887957   \n",
       "nox        0.419594    -1.396148    0.607074   0.013428  -0.024603   \n",
       "rm        -1.325038     5.112513   -1.887957  -0.024603   0.493671   \n",
       "age       85.405322  -373.901548  124.513903   2.385927  -4.751929   \n",
       "dis       -6.876722    32.629304  -10.228097  -0.187696   0.303663   \n",
       "rad       46.847761   -63.348695   35.549971   0.616929  -1.283815   \n",
       "tax      844.821538 -1236.453735  833.360290  13.046286 -34.583448   \n",
       "ptratio    5.399331   -19.776571    5.692104   0.047397  -0.540763   \n",
       "b       -302.381816   373.721402 -223.579756  -4.020570   8.215006   \n",
       "lstat     27.986168   -68.783037   29.580270   0.488946  -3.079741   \n",
       "medv     -30.718508    77.315176  -30.520823  -0.455412   4.493446   \n",
       "\n",
       "                 age         dis          rad           tax     ptratio  \\\n",
       "crim       85.405322   -6.876722    46.847761    844.821538    5.399331   \n",
       "zn       -373.901548   32.629304   -63.348695  -1236.453735  -19.776571   \n",
       "indus     124.513903  -10.228097    35.549971    833.360290    5.692104   \n",
       "nox         2.385927   -0.187696     0.616929     13.046286    0.047397   \n",
       "rm         -4.751929    0.303663    -1.283815    -34.583448   -0.540763   \n",
       "age       792.358399  -44.329379   111.770846   2402.690122   15.936921   \n",
       "dis       -44.329379    4.434015    -9.068252   -189.664592   -1.059775   \n",
       "rad       111.770846   -9.068252    75.816366   1335.756577    8.760716   \n",
       "tax      2402.690122 -189.664592  1335.756577  28404.759488  168.153141   \n",
       "ptratio    15.936921   -1.059775     8.760716    168.153141    4.686989   \n",
       "b        -702.940328   56.040356  -353.276219  -6797.911215  -35.059527   \n",
       "lstat     121.077725   -7.473329    30.385442    654.714520    5.782729   \n",
       "medv      -97.589017    4.840229   -30.561228   -726.255716  -10.110657   \n",
       "\n",
       "                   b       lstat        medv  \n",
       "crim     -302.381816   27.986168  -30.718508  \n",
       "zn        373.721402  -68.783037   77.315176  \n",
       "indus    -223.579756   29.580270  -30.520823  \n",
       "nox        -4.020570    0.488946   -0.455412  \n",
       "rm          8.215006   -3.079741    4.493446  \n",
       "age      -702.940328  121.077725  -97.589017  \n",
       "dis        56.040356   -7.473329    4.840229  \n",
       "rad      -353.276219   30.385442  -30.561228  \n",
       "tax     -6797.911215  654.714520 -726.255716  \n",
       "ptratio   -35.059527    5.782729  -10.110657  \n",
       "b        8334.752263 -238.667516  279.989834  \n",
       "lstat    -238.667516   50.994760  -48.447538  \n",
       "medv      279.989834  -48.447538   84.586724  "
      ]
     },
     "execution_count": 13,
     "metadata": {},
     "output_type": "execute_result"
    }
   ],
   "source": [
    "##그림상 가설이 아예 틀렸다고 할 수 있지만 드라마틱한 상관관계는 없군\n",
    "#공분산 체크\n",
    "#단일변수로 보려면 x.cov(y)\n",
    "data.cov()\n",
    "#이렇게 보면 어질어질하지"
   ]
  },
  {
   "cell_type": "code",
   "execution_count": 14,
   "metadata": {},
   "outputs": [
    {
     "data": {
      "text/plain": [
       "-30.718507964458176"
      ]
     },
     "execution_count": 14,
     "metadata": {},
     "output_type": "execute_result"
    }
   ],
   "source": [
    "data['crim'].cov(data['medv'])"
   ]
  },
  {
   "cell_type": "code",
   "execution_count": 15,
   "metadata": {},
   "outputs": [
    {
     "data": {
      "text/plain": [
       "-0.3883046085868114"
      ]
     },
     "execution_count": 15,
     "metadata": {},
     "output_type": "execute_result"
    }
   ],
   "source": [
    "data['crim'].corr(data['medv'])\n",
    "#그렇게 유의미하지는..? 하지만 사회과학 분야에서 이정도면 무의미하진 않지"
   ]
  },
  {
   "cell_type": "code",
   "execution_count": 17,
   "metadata": {},
   "outputs": [
    {
     "data": {
      "text/plain": [
       "<seaborn.axisgrid.JointGrid at 0x2ac12bc57c8>"
      ]
     },
     "execution_count": 17,
     "metadata": {},
     "output_type": "execute_result"
    },
    {
     "data": {
      "image/png": "[encoded data removed]",
      "text/plain": [
       "<Figure size 432x432 with 3 Axes>"
      ]
     },
     "metadata": {
      "needs_background": "light"
     },
     "output_type": "display_data"
    }
   ],
   "source": [
    "##가설 2 : 방의 개수와 집값의 상관 (그렇겠지 면적이 넓으니까)\n",
    "sns.jointplot(data = data, x = 'rm', y = 'medv', kind = 'regg')"
   ]
  },
  {
   "cell_type": "code",
   "execution_count": 18,
   "metadata": {},
   "outputs": [
    {
     "data": {
      "text/plain": [
       "0.6953599470715387"
      ]
     },
     "execution_count": 18,
     "metadata": {},
     "output_type": "execute_result"
    }
   ],
   "source": [
    "data['rm'].corr(data['medv'])\n",
    "#이건 확실히 강하다고 할 수 있지"
   ]
  },
  {
   "cell_type": "code",
   "execution_count": 21,
   "metadata": {},
   "outputs": [
    {
     "data": {
      "text/plain": [
       "<matplotlib.axes._subplots.AxesSubplot at 0x2ac13273688>"
      ]
     },
     "execution_count": 21,
     "metadata": {},
     "output_type": "execute_result"
    },
    {
     "data": {
      "image/png": "[encoded data removed]",
      "text/plain": [
       "<Figure size 720x720 with 2 Axes>"
      ]
     },
     "metadata": {
      "needs_background": "light"
     },
     "output_type": "display_data"
    }
   ],
   "source": [
    "##한눈에 볼려면 히트맵을 사용해보자\n",
    "fig, ax = plt.subplots( figsize = (10,10))\n",
    "##도화지 키우는 다른 방법\n",
    "#plt.figure(figsize = (10,10))\n",
    "sns.heatmap(data.corr() ,\n",
    "            cmap = 'RdBu_r', \n",
    "            annot = True,\n",
    "           fmt = '.2f')"
   ]
  },
  {
   "cell_type": "code",
   "execution_count": 22,
   "metadata": {},
   "outputs": [
    {
     "name": "stdout",
     "output_type": "stream",
     "text": [
      "crim과 짒값의 상관계수 : -0.3883046085868114\n",
      "zn과 짒값의 상관계수 : 0.3604453424505433\n",
      "indus과 짒값의 상관계수 : -0.4837251600283728\n",
      "nox과 짒값의 상관계수 : -0.4273207723732824\n",
      "rm과 짒값의 상관계수 : 0.6953599470715387\n",
      "age과 짒값의 상관계수 : -0.37695456500459606\n",
      "dis과 짒값의 상관계수 : 0.24992873408590388\n",
      "rad과 짒값의 상관계수 : -0.38162623063977746\n",
      "tax과 짒값의 상관계수 : -0.46853593356776696\n",
      "ptratio과 짒값의 상관계수 : -0.5077866855375615\n",
      "b과 짒값의 상관계수 : 0.33346081965706637\n",
      "lstat과 짒값의 상관계수 : -0.7376627261740148\n",
      "medv과 짒값의 상관계수 : 1.0\n"
     ]
    }
   ],
   "source": [
    "##PCA를 이용하여 변수 셀렉션을 해보자\n",
    "corr_bar = []\n",
    "for column in data.columns:\n",
    "    print(f\"{column}과 짒값의 상관계수 : {data[column].corr(data['medv'])}\")\n",
    "    corr_bar.append(data[column].corr(data['medv']))"
   ]
  },
  {
   "cell_type": "code",
   "execution_count": 23,
   "metadata": {},
   "outputs": [
    {
     "data": {
      "text/plain": [
       "<matplotlib.axes._subplots.AxesSubplot at 0x2ac12f56f88>"
      ]
     },
     "execution_count": 23,
     "metadata": {},
     "output_type": "execute_result"
    },
    {
     "data": {
      "image/png": "[encoded data removed]",
      "text/plain": [
       "<Figure size 432x288 with 1 Axes>"
      ]
     },
     "metadata": {
      "needs_background": "light"
     },
     "output_type": "display_data"
    }
   ],
   "source": [
    "#bat plot그려보자\n",
    "sns.barplot(data.columns, corr_bar)"
   ]
  },
  {
   "cell_type": "code",
   "execution_count": 24,
   "metadata": {},
   "outputs": [
    {
     "name": "stdout",
     "output_type": "stream",
     "text": [
      "crim과 짒값의 상관계수 : -0.3883046085868114\n",
      "zn과 짒값의 상관계수 : 0.3604453424505433\n",
      "indus과 짒값의 상관계수 : -0.4837251600283728\n",
      "nox과 짒값의 상관계수 : -0.4273207723732824\n",
      "rm과 짒값의 상관계수 : 0.6953599470715387\n",
      "age과 짒값의 상관계수 : -0.37695456500459606\n",
      "dis과 짒값의 상관계수 : 0.24992873408590388\n",
      "rad과 짒값의 상관계수 : -0.38162623063977746\n",
      "tax과 짒값의 상관계수 : -0.46853593356776696\n",
      "ptratio과 짒값의 상관계수 : -0.5077866855375615\n",
      "b과 짒값의 상관계수 : 0.33346081965706637\n",
      "lstat과 짒값의 상관계수 : -0.7376627261740148\n",
      "medv과 짒값의 상관계수 : 1.0\n"
     ]
    },
    {
     "data": {
      "text/plain": [
       "<matplotlib.axes._subplots.AxesSubplot at 0x2ac1345b4c8>"
      ]
     },
     "execution_count": 24,
     "metadata": {},
     "output_type": "execute_result"
    },
    {
     "data": {
      "image/png": "[encoded data removed]",
      "text/plain": [
       "<Figure size 432x288 with 1 Axes>"
      ]
     },
     "metadata": {
      "needs_background": "light"
     },
     "output_type": "display_data"
    }
   ],
   "source": [
    "corr_bar = []\n",
    "for column in data.columns:\n",
    "    print(f\"{column}과 짒값의 상관계수 : {data[column].corr(data['medv'])}\")\n",
    "    corr_bar.append(abs(data[column].corr(data['medv'])))\n",
    "\n",
    "sns.barplot(data.columns, corr_bar)"
   ]
  },
  {
   "cell_type": "code",
   "execution_count": 25,
   "metadata": {},
   "outputs": [],
   "source": [
    "#위에서 상대적으로 상관계수가 낮은 2개를 하나로 뭉쳐보자\n",
    "x = data[['dis','b']]"
   ]
  },
  {
   "cell_type": "code",
   "execution_count": 26,
   "metadata": {},
   "outputs": [],
   "source": [
    "## PCA해보자\n",
    "from sklearn.decomposition import PCA\n",
    "##PCA(n_components) 객채생성, 몇개 변수만들지\n",
    "##PCA.fit(x) 데이터 학습\n",
    "##PCA.components_ 앞의 학습으로 만들어진 변수속에 반영된 이 전 변수의 분산정도\n",
    "##PCA.explained_variance_ratio_ 새로운 변수가 설명하는 분산의 비율\n",
    "##PCA.trasform : 학습내용을 바탕으로 x의 데이터를 변환 "
   ]
  },
  {
   "cell_type": "code",
   "execution_count": 29,
   "metadata": {},
   "outputs": [],
   "source": [
    "pca = PCA(n_components = 1)  ##PCA라는 객체로 이름 붙여버려"
   ]
  },
  {
   "cell_type": "code",
   "execution_count": 30,
   "metadata": {},
   "outputs": [
    {
     "data": {
      "text/plain": [
       "PCA(copy=True, iterated_power='auto', n_components=1, random_state=None,\n",
       "    svd_solver='auto', tol=0.0, whiten=False)"
      ]
     },
     "execution_count": 30,
     "metadata": {},
     "output_type": "execute_result"
    }
   ],
   "source": [
    "pca.fit(x) ##학습시킴"
   ]
  },
  {
   "cell_type": "code",
   "execution_count": 31,
   "metadata": {},
   "outputs": [
    {
     "data": {
      "text/plain": [
       "array([[-0.00672682, -0.99997737]])"
      ]
     },
     "execution_count": 31,
     "metadata": {},
     "output_type": "execute_result"
    }
   ],
   "source": [
    "pca.components_  ##아래의 값을 보면 b라는 변수의 설명을 거의 다 담아버렸다. 이렇게 되면 black의 변수를 하나 복제한 것밖에 안된다."
   ]
  },
  {
   "cell_type": "code",
   "execution_count": 32,
   "metadata": {},
   "outputs": [
    {
     "data": {
      "text/plain": [
       "array([0.9995135])"
      ]
     },
     "execution_count": 32,
     "metadata": {},
     "output_type": "execute_result"
    }
   ],
   "source": [
    "##정규화를 안시켜줘서 그럼\n",
    "##일단 새로만든 PC1이 설명하는 기존의 변수 분산 설명\n",
    "pca.explained_variance_ratio_"
   ]
  },
  {
   "cell_type": "code",
   "execution_count": 33,
   "metadata": {},
   "outputs": [],
   "source": [
    "##새로운 데이터를 pc1이라는 칼럼에 추가\n",
    "data['pc1'] = pca.transform(x)\n",
    "##fit_transform을 하면 fit과 변환을 동시에 진행하는 것\n",
    "##transform은 위에서 했던 fit을 바탕으로 변환만 하는 것\n",
    "##앞으로는 위의 두 과정이 다를 것임. 주의"
   ]
  },
  {
   "cell_type": "code",
   "execution_count": 34,
   "metadata": {},
   "outputs": [
    {
     "data": {
      "text/html": [
       "<div>\n",
       "<style scoped>\n",
       "    .dataframe tbody tr th:only-of-type {\n",
       "        vertical-align: middle;\n",
       "    }\n",
       "\n",
       "    .dataframe tbody tr th {\n",
       "        vertical-align: top;\n",
       "    }\n",
       "\n",
       "    .dataframe thead th {\n",
       "        text-align: right;\n",
       "    }\n",
       "</style>\n",
       "<table border=\"1\" class=\"dataframe\">\n",
       "  <thead>\n",
       "    <tr style=\"text-align: right;\">\n",
       "      <th></th>\n",
       "      <th>crim</th>\n",
       "      <th>zn</th>\n",
       "      <th>indus</th>\n",
       "      <th>nox</th>\n",
       "      <th>rm</th>\n",
       "      <th>age</th>\n",
       "      <th>dis</th>\n",
       "      <th>rad</th>\n",
       "      <th>tax</th>\n",
       "      <th>ptratio</th>\n",
       "      <th>b</th>\n",
       "      <th>lstat</th>\n",
       "      <th>medv</th>\n",
       "      <th>pc1</th>\n",
       "    </tr>\n",
       "  </thead>\n",
       "  <tbody>\n",
       "    <tr>\n",
       "      <th>0</th>\n",
       "      <td>0.00632</td>\n",
       "      <td>18.0</td>\n",
       "      <td>2.31</td>\n",
       "      <td>0.538</td>\n",
       "      <td>6.575</td>\n",
       "      <td>65.2</td>\n",
       "      <td>4.0900</td>\n",
       "      <td>1.0</td>\n",
       "      <td>296.0</td>\n",
       "      <td>15.3</td>\n",
       "      <td>396.90</td>\n",
       "      <td>4.98</td>\n",
       "      <td>24.0</td>\n",
       "      <td>-40.227042</td>\n",
       "    </tr>\n",
       "    <tr>\n",
       "      <th>1</th>\n",
       "      <td>0.02731</td>\n",
       "      <td>0.0</td>\n",
       "      <td>7.07</td>\n",
       "      <td>0.469</td>\n",
       "      <td>6.421</td>\n",
       "      <td>78.9</td>\n",
       "      <td>4.9671</td>\n",
       "      <td>2.0</td>\n",
       "      <td>242.0</td>\n",
       "      <td>17.8</td>\n",
       "      <td>396.90</td>\n",
       "      <td>9.14</td>\n",
       "      <td>21.6</td>\n",
       "      <td>-40.232942</td>\n",
       "    </tr>\n",
       "    <tr>\n",
       "      <th>2</th>\n",
       "      <td>0.02729</td>\n",
       "      <td>0.0</td>\n",
       "      <td>7.07</td>\n",
       "      <td>0.469</td>\n",
       "      <td>7.185</td>\n",
       "      <td>61.1</td>\n",
       "      <td>4.9671</td>\n",
       "      <td>2.0</td>\n",
       "      <td>242.0</td>\n",
       "      <td>17.8</td>\n",
       "      <td>392.83</td>\n",
       "      <td>4.03</td>\n",
       "      <td>34.7</td>\n",
       "      <td>-36.163035</td>\n",
       "    </tr>\n",
       "    <tr>\n",
       "      <th>3</th>\n",
       "      <td>0.03237</td>\n",
       "      <td>0.0</td>\n",
       "      <td>2.18</td>\n",
       "      <td>0.458</td>\n",
       "      <td>6.998</td>\n",
       "      <td>45.8</td>\n",
       "      <td>6.0622</td>\n",
       "      <td>3.0</td>\n",
       "      <td>222.0</td>\n",
       "      <td>18.7</td>\n",
       "      <td>394.63</td>\n",
       "      <td>2.94</td>\n",
       "      <td>33.4</td>\n",
       "      <td>-37.970360</td>\n",
       "    </tr>\n",
       "    <tr>\n",
       "      <th>4</th>\n",
       "      <td>0.06905</td>\n",
       "      <td>0.0</td>\n",
       "      <td>2.18</td>\n",
       "      <td>0.458</td>\n",
       "      <td>7.147</td>\n",
       "      <td>54.2</td>\n",
       "      <td>6.0622</td>\n",
       "      <td>3.0</td>\n",
       "      <td>222.0</td>\n",
       "      <td>18.7</td>\n",
       "      <td>396.90</td>\n",
       "      <td>5.33</td>\n",
       "      <td>36.2</td>\n",
       "      <td>-40.240309</td>\n",
       "    </tr>\n",
       "  </tbody>\n",
       "</table>\n",
       "</div>"
      ],
      "text/plain": [
       "      crim    zn  indus    nox     rm   age     dis  rad    tax  ptratio  \\\n",
       "0  0.00632  18.0   2.31  0.538  6.575  65.2  4.0900  1.0  296.0     15.3   \n",
       "1  0.02731   0.0   7.07  0.469  6.421  78.9  4.9671  2.0  242.0     17.8   \n",
       "2  0.02729   0.0   7.07  0.469  7.185  61.1  4.9671  2.0  242.0     17.8   \n",
       "3  0.03237   0.0   2.18  0.458  6.998  45.8  6.0622  3.0  222.0     18.7   \n",
       "4  0.06905   0.0   2.18  0.458  7.147  54.2  6.0622  3.0  222.0     18.7   \n",
       "\n",
       "        b  lstat  medv        pc1  \n",
       "0  396.90   4.98  24.0 -40.227042  \n",
       "1  396.90   9.14  21.6 -40.232942  \n",
       "2  392.83   4.03  34.7 -36.163035  \n",
       "3  394.63   2.94  33.4 -37.970360  \n",
       "4  396.90   5.33  36.2 -40.240309  "
      ]
     },
     "execution_count": 34,
     "metadata": {},
     "output_type": "execute_result"
    }
   ],
   "source": [
    "data.head()"
   ]
  },
  {
   "cell_type": "code",
   "execution_count": 35,
   "metadata": {},
   "outputs": [
    {
     "data": {
      "text/plain": [
       "<seaborn.axisgrid.JointGrid at 0x2ac139e5748>"
      ]
     },
     "execution_count": 35,
     "metadata": {},
     "output_type": "execute_result"
    },
    {
     "data": {
      "image/png": "[encoded data removed]",
      "text/plain": [
       "<Figure size 432x432 with 3 Axes>"
      ]
     },
     "metadata": {
      "needs_background": "light"
     },
     "output_type": "display_data"
    }
   ],
   "source": [
    "sns.jointplot(data=data, x='pc1', y='medv', kind = 'regg')"
   ]
  },
  {
   "cell_type": "code",
   "execution_count": 36,
   "metadata": {},
   "outputs": [
    {
     "data": {
      "text/plain": [
       "-0.33348451067418966"
      ]
     },
     "execution_count": 36,
     "metadata": {},
     "output_type": "execute_result"
    }
   ],
   "source": [
    "data['pc1'].corr(data['medv'])\n",
    "##기존의 b와 집값의 상관계수와 거의 차이가 없음\n",
    "##이런 변수는 쓸모없다는 것임"
   ]
  },
  {
   "cell_type": "code",
   "execution_count": 37,
   "metadata": {},
   "outputs": [],
   "source": [
    "## 정규화를 진행해서 다시 한번 해보자\n",
    "#StandardScaler() 정규화 객체 생성\n",
    "#scaler.fit(x) 정규화 객체로 학습\n",
    "#scaler.transform(x) 학습된 학습기로 변수x의 데이터를 변환"
   ]
  },
  {
   "cell_type": "code",
   "execution_count": 38,
   "metadata": {},
   "outputs": [],
   "source": [
    "##정규화 library 불러오자\n",
    "from sklearn.preprocessing import StandardScaler"
   ]
  },
  {
   "cell_type": "code",
   "execution_count": 39,
   "metadata": {},
   "outputs": [],
   "source": [
    "scaler = StandardScaler()"
   ]
  },
  {
   "cell_type": "code",
   "execution_count": 40,
   "metadata": {},
   "outputs": [],
   "source": [
    "scaler.fit(x)\n",
    "scaler_x = scaler.transform(x)\n",
    "##학습시키는 데이터와 변형시키는 데이터가 같아서 동시에 처리해도 상관은 없음"
   ]
  },
  {
   "cell_type": "code",
   "execution_count": 41,
   "metadata": {},
   "outputs": [
    {
     "data": {
      "text/plain": [
       "array([[ 0.1402136 ,  0.44105193],\n",
       "       [ 0.55715988,  0.44105193],\n",
       "       [ 0.55715988,  0.39642699],\n",
       "       ...,\n",
       "       [-0.77368357,  0.44105193],\n",
       "       [-0.66843684,  0.4032249 ],\n",
       "       [-0.61324648,  0.44105193]])"
      ]
     },
     "execution_count": 41,
     "metadata": {},
     "output_type": "execute_result"
    }
   ],
   "source": [
    "scaler_x"
   ]
  },
  {
   "cell_type": "code",
   "execution_count": 42,
   "metadata": {},
   "outputs": [
    {
     "data": {
      "text/plain": [
       "array([[-0.70710678, -0.70710678]])"
      ]
     },
     "execution_count": 42,
     "metadata": {},
     "output_type": "execute_result"
    }
   ],
   "source": [
    "pca = PCA(n_components = 1)\n",
    "pca.fit(scaler_x)\n",
    "pca.components_  \n",
    "##두 변수의 분산이 동일한 비중으로  설정됨을 확일 할 수 있음"
   ]
  },
  {
   "cell_type": "code",
   "execution_count": 43,
   "metadata": {},
   "outputs": [
    {
     "data": {
      "text/plain": [
       "array([0.64575584])"
      ]
     },
     "execution_count": 43,
     "metadata": {},
     "output_type": "execute_result"
    }
   ],
   "source": [
    "pca.explained_variance_ratio_\n",
    "##아까보다 낮아졌는데 그것은 아까는 흑인컬럼을 그대로 가져와버렸고 지금은 적절히 섞였기 떄문"
   ]
  },
  {
   "cell_type": "code",
   "execution_count": 44,
   "metadata": {},
   "outputs": [],
   "source": [
    "data['pc1'] = pca.transform(scaler_x)"
   ]
  },
  {
   "cell_type": "code",
   "execution_count": 45,
   "metadata": {},
   "outputs": [
    {
     "data": {
      "text/html": [
       "<div>\n",
       "<style scoped>\n",
       "    .dataframe tbody tr th:only-of-type {\n",
       "        vertical-align: middle;\n",
       "    }\n",
       "\n",
       "    .dataframe tbody tr th {\n",
       "        vertical-align: top;\n",
       "    }\n",
       "\n",
       "    .dataframe thead th {\n",
       "        text-align: right;\n",
       "    }\n",
       "</style>\n",
       "<table border=\"1\" class=\"dataframe\">\n",
       "  <thead>\n",
       "    <tr style=\"text-align: right;\">\n",
       "      <th></th>\n",
       "      <th>crim</th>\n",
       "      <th>zn</th>\n",
       "      <th>indus</th>\n",
       "      <th>nox</th>\n",
       "      <th>rm</th>\n",
       "      <th>age</th>\n",
       "      <th>dis</th>\n",
       "      <th>rad</th>\n",
       "      <th>tax</th>\n",
       "      <th>ptratio</th>\n",
       "      <th>b</th>\n",
       "      <th>lstat</th>\n",
       "      <th>medv</th>\n",
       "      <th>pc1</th>\n",
       "    </tr>\n",
       "  </thead>\n",
       "  <tbody>\n",
       "    <tr>\n",
       "      <th>0</th>\n",
       "      <td>0.00632</td>\n",
       "      <td>18.0</td>\n",
       "      <td>2.31</td>\n",
       "      <td>0.538</td>\n",
       "      <td>6.575</td>\n",
       "      <td>65.2</td>\n",
       "      <td>4.0900</td>\n",
       "      <td>1.0</td>\n",
       "      <td>296.0</td>\n",
       "      <td>15.3</td>\n",
       "      <td>396.90</td>\n",
       "      <td>4.98</td>\n",
       "      <td>24.0</td>\n",
       "      <td>-0.411017</td>\n",
       "    </tr>\n",
       "    <tr>\n",
       "      <th>1</th>\n",
       "      <td>0.02731</td>\n",
       "      <td>0.0</td>\n",
       "      <td>7.07</td>\n",
       "      <td>0.469</td>\n",
       "      <td>6.421</td>\n",
       "      <td>78.9</td>\n",
       "      <td>4.9671</td>\n",
       "      <td>2.0</td>\n",
       "      <td>242.0</td>\n",
       "      <td>17.8</td>\n",
       "      <td>396.90</td>\n",
       "      <td>9.14</td>\n",
       "      <td>21.6</td>\n",
       "      <td>-0.705842</td>\n",
       "    </tr>\n",
       "    <tr>\n",
       "      <th>2</th>\n",
       "      <td>0.02729</td>\n",
       "      <td>0.0</td>\n",
       "      <td>7.07</td>\n",
       "      <td>0.469</td>\n",
       "      <td>7.185</td>\n",
       "      <td>61.1</td>\n",
       "      <td>4.9671</td>\n",
       "      <td>2.0</td>\n",
       "      <td>242.0</td>\n",
       "      <td>17.8</td>\n",
       "      <td>392.83</td>\n",
       "      <td>4.03</td>\n",
       "      <td>34.7</td>\n",
       "      <td>-0.674288</td>\n",
       "    </tr>\n",
       "    <tr>\n",
       "      <th>3</th>\n",
       "      <td>0.03237</td>\n",
       "      <td>0.0</td>\n",
       "      <td>2.18</td>\n",
       "      <td>0.458</td>\n",
       "      <td>6.998</td>\n",
       "      <td>45.8</td>\n",
       "      <td>6.0622</td>\n",
       "      <td>3.0</td>\n",
       "      <td>222.0</td>\n",
       "      <td>18.7</td>\n",
       "      <td>394.63</td>\n",
       "      <td>2.94</td>\n",
       "      <td>33.4</td>\n",
       "      <td>-1.056346</td>\n",
       "    </tr>\n",
       "    <tr>\n",
       "      <th>4</th>\n",
       "      <td>0.06905</td>\n",
       "      <td>0.0</td>\n",
       "      <td>2.18</td>\n",
       "      <td>0.458</td>\n",
       "      <td>7.147</td>\n",
       "      <td>54.2</td>\n",
       "      <td>6.0622</td>\n",
       "      <td>3.0</td>\n",
       "      <td>222.0</td>\n",
       "      <td>18.7</td>\n",
       "      <td>396.90</td>\n",
       "      <td>5.33</td>\n",
       "      <td>36.2</td>\n",
       "      <td>-1.073946</td>\n",
       "    </tr>\n",
       "  </tbody>\n",
       "</table>\n",
       "</div>"
      ],
      "text/plain": [
       "      crim    zn  indus    nox     rm   age     dis  rad    tax  ptratio  \\\n",
       "0  0.00632  18.0   2.31  0.538  6.575  65.2  4.0900  1.0  296.0     15.3   \n",
       "1  0.02731   0.0   7.07  0.469  6.421  78.9  4.9671  2.0  242.0     17.8   \n",
       "2  0.02729   0.0   7.07  0.469  7.185  61.1  4.9671  2.0  242.0     17.8   \n",
       "3  0.03237   0.0   2.18  0.458  6.998  45.8  6.0622  3.0  222.0     18.7   \n",
       "4  0.06905   0.0   2.18  0.458  7.147  54.2  6.0622  3.0  222.0     18.7   \n",
       "\n",
       "        b  lstat  medv       pc1  \n",
       "0  396.90   4.98  24.0 -0.411017  \n",
       "1  396.90   9.14  21.6 -0.705842  \n",
       "2  392.83   4.03  34.7 -0.674288  \n",
       "3  394.63   2.94  33.4 -1.056346  \n",
       "4  396.90   5.33  36.2 -1.073946  "
      ]
     },
     "execution_count": 45,
     "metadata": {},
     "output_type": "execute_result"
    }
   ],
   "source": [
    "data.head()"
   ]
  },
  {
   "cell_type": "code",
   "execution_count": 46,
   "metadata": {},
   "outputs": [
    {
     "data": {
      "text/plain": [
       "<seaborn.axisgrid.JointGrid at 0x2ac14b9be08>"
      ]
     },
     "execution_count": 46,
     "metadata": {},
     "output_type": "execute_result"
    },
    {
     "data": {
      "image/png": "[encoded data removed]",
      "text/plain": [
       "<Figure size 432x432 with 3 Axes>"
      ]
     },
     "metadata": {
      "needs_background": "light"
     },
     "output_type": "display_data"
    }
   ],
   "source": [
    "sns.jointplot(data = data , x = 'pc1' , y='medv', kind = 'regg')"
   ]
  },
  {
   "cell_type": "code",
   "execution_count": 47,
   "metadata": {},
   "outputs": [
    {
     "data": {
      "text/plain": [
       "-0.36298985100090175"
      ]
     },
     "execution_count": 47,
     "metadata": {},
     "output_type": "execute_result"
    }
   ],
   "source": [
    "data['pc1'].corr(data['medv'])\n",
    "##절대값이 0.03만큼 커졌는데 이정도면 잘 합쳤다할만함 \n",
    "## 그 기준은??? -> 생각해볼것"
   ]
  },
  {
   "cell_type": "code",
   "execution_count": 48,
   "metadata": {},
   "outputs": [],
   "source": [
    "##비지도학습 - clustering 해보기\n",
    "##방법은 굉장히 많다. 가장 기본적 알고리즘을 배우고 한계점과 계량버전을 공부해보자\n",
    "## K-means를 사용해볼건데 주어진 값들 사이의 유클리디안 거리를 이용\n",
    "## 처음의 임의의 기준점을 제시해야한다는 것인데...\n",
    "## 이게 문제가 될 수 있지..\n",
    "## 군집별 중심값에서 중심간의 거리를 기반으로 군집화..\n",
    "\n",
    "##거리이용  -> 범주형에 적용하기 어려움\n",
    "##반복되는 작업 수행\n",
    "##짧은 계산시간\n",
    "## 사전정보가 특별히 필요없다는 점은 장점일 수 있지만 단점이 될 지도..\n",
    "\n",
    "## 그렇다면 K는 몇개로 설정하는 것이 좋을까? -> 굉장히 어려운 얘기 , 해석에 따라 달라지는..\n",
    "## Elbow point 찾기 - 꺾인점\n",
    "##  k-means는 오브젝트와 거리의 제곱합이 비용함수임\n",
    "##  k의 개수는 증가하지만 비용함수는 차이나지 않는 지점을 elbow point로 보는 것이.."
   ]
  },
  {
   "cell_type": "code",
   "execution_count": 49,
   "metadata": {},
   "outputs": [],
   "source": [
    "##라이브러리 불러오기\n",
    "import pandas as pd\n",
    "import matplotlib.pyplot as plt\n",
    "import seaborn as sns"
   ]
  },
  {
   "cell_type": "code",
   "execution_count": 50,
   "metadata": {},
   "outputs": [
    {
     "data": {
      "text/html": [
       "<div>\n",
       "<style scoped>\n",
       "    .dataframe tbody tr th:only-of-type {\n",
       "        vertical-align: middle;\n",
       "    }\n",
       "\n",
       "    .dataframe tbody tr th {\n",
       "        vertical-align: top;\n",
       "    }\n",
       "\n",
       "    .dataframe thead th {\n",
       "        text-align: right;\n",
       "    }\n",
       "</style>\n",
       "<table border=\"1\" class=\"dataframe\">\n",
       "  <thead>\n",
       "    <tr style=\"text-align: right;\">\n",
       "      <th></th>\n",
       "      <th>crim</th>\n",
       "      <th>zn</th>\n",
       "      <th>indus</th>\n",
       "      <th>chas</th>\n",
       "      <th>nox</th>\n",
       "      <th>rm</th>\n",
       "      <th>age</th>\n",
       "      <th>dis</th>\n",
       "      <th>rad</th>\n",
       "      <th>tax</th>\n",
       "      <th>ptratio</th>\n",
       "      <th>b</th>\n",
       "      <th>lstat</th>\n",
       "      <th>medv</th>\n",
       "    </tr>\n",
       "  </thead>\n",
       "  <tbody>\n",
       "    <tr>\n",
       "      <th>0</th>\n",
       "      <td>0.00632</td>\n",
       "      <td>18.0</td>\n",
       "      <td>2.31</td>\n",
       "      <td>0.0</td>\n",
       "      <td>0.538</td>\n",
       "      <td>6.575</td>\n",
       "      <td>65.2</td>\n",
       "      <td>4.0900</td>\n",
       "      <td>1.0</td>\n",
       "      <td>296.0</td>\n",
       "      <td>15.3</td>\n",
       "      <td>396.90</td>\n",
       "      <td>4.98</td>\n",
       "      <td>24.0</td>\n",
       "    </tr>\n",
       "    <tr>\n",
       "      <th>1</th>\n",
       "      <td>0.02731</td>\n",
       "      <td>0.0</td>\n",
       "      <td>7.07</td>\n",
       "      <td>0.0</td>\n",
       "      <td>0.469</td>\n",
       "      <td>6.421</td>\n",
       "      <td>78.9</td>\n",
       "      <td>4.9671</td>\n",
       "      <td>2.0</td>\n",
       "      <td>242.0</td>\n",
       "      <td>17.8</td>\n",
       "      <td>396.90</td>\n",
       "      <td>9.14</td>\n",
       "      <td>21.6</td>\n",
       "    </tr>\n",
       "    <tr>\n",
       "      <th>2</th>\n",
       "      <td>0.02729</td>\n",
       "      <td>0.0</td>\n",
       "      <td>7.07</td>\n",
       "      <td>0.0</td>\n",
       "      <td>0.469</td>\n",
       "      <td>7.185</td>\n",
       "      <td>61.1</td>\n",
       "      <td>4.9671</td>\n",
       "      <td>2.0</td>\n",
       "      <td>242.0</td>\n",
       "      <td>17.8</td>\n",
       "      <td>392.83</td>\n",
       "      <td>4.03</td>\n",
       "      <td>34.7</td>\n",
       "    </tr>\n",
       "    <tr>\n",
       "      <th>3</th>\n",
       "      <td>0.03237</td>\n",
       "      <td>0.0</td>\n",
       "      <td>2.18</td>\n",
       "      <td>0.0</td>\n",
       "      <td>0.458</td>\n",
       "      <td>6.998</td>\n",
       "      <td>45.8</td>\n",
       "      <td>6.0622</td>\n",
       "      <td>3.0</td>\n",
       "      <td>222.0</td>\n",
       "      <td>18.7</td>\n",
       "      <td>394.63</td>\n",
       "      <td>2.94</td>\n",
       "      <td>33.4</td>\n",
       "    </tr>\n",
       "    <tr>\n",
       "      <th>4</th>\n",
       "      <td>0.06905</td>\n",
       "      <td>0.0</td>\n",
       "      <td>2.18</td>\n",
       "      <td>0.0</td>\n",
       "      <td>0.458</td>\n",
       "      <td>7.147</td>\n",
       "      <td>54.2</td>\n",
       "      <td>6.0622</td>\n",
       "      <td>3.0</td>\n",
       "      <td>222.0</td>\n",
       "      <td>18.7</td>\n",
       "      <td>396.90</td>\n",
       "      <td>5.33</td>\n",
       "      <td>36.2</td>\n",
       "    </tr>\n",
       "  </tbody>\n",
       "</table>\n",
       "</div>"
      ],
      "text/plain": [
       "      crim    zn  indus  chas    nox     rm   age     dis  rad    tax  \\\n",
       "0  0.00632  18.0   2.31   0.0  0.538  6.575  65.2  4.0900  1.0  296.0   \n",
       "1  0.02731   0.0   7.07   0.0  0.469  6.421  78.9  4.9671  2.0  242.0   \n",
       "2  0.02729   0.0   7.07   0.0  0.469  7.185  61.1  4.9671  2.0  242.0   \n",
       "3  0.03237   0.0   2.18   0.0  0.458  6.998  45.8  6.0622  3.0  222.0   \n",
       "4  0.06905   0.0   2.18   0.0  0.458  7.147  54.2  6.0622  3.0  222.0   \n",
       "\n",
       "   ptratio       b  lstat  medv  \n",
       "0     15.3  396.90   4.98  24.0  \n",
       "1     17.8  396.90   9.14  21.6  \n",
       "2     17.8  392.83   4.03  34.7  \n",
       "3     18.7  394.63   2.94  33.4  \n",
       "4     18.7  396.90   5.33  36.2  "
      ]
     },
     "execution_count": 50,
     "metadata": {},
     "output_type": "execute_result"
    }
   ],
   "source": [
    "data = pd.read_csv('./data/boston.csv')\n",
    "data.head()"
   ]
  },
  {
   "cell_type": "code",
   "execution_count": 51,
   "metadata": {},
   "outputs": [],
   "source": [
    "##군집화에 범주화를 쓰면 처리가 필요하므로.. 범주화를 지우고\n",
    "## PCA로 변수를 2개로 줄여서 진행해보자"
   ]
  },
  {
   "cell_type": "code",
   "execution_count": 52,
   "metadata": {},
   "outputs": [],
   "source": [
    "##차원축소를 먼저 해보자\n",
    "del data['chas']"
   ]
  },
  {
   "cell_type": "code",
   "execution_count": 53,
   "metadata": {},
   "outputs": [],
   "source": [
    "medv = data['medv']\n",
    "del data['medv']\n",
    "## 집값데이터가 y값으로 사용되는 건데 분석에 들어가면 안되겠지요 그래서 따로 떼어 둡니다"
   ]
  },
  {
   "cell_type": "code",
   "execution_count": 54,
   "metadata": {},
   "outputs": [],
   "source": [
    "from sklearn.preprocessing import StandardScaler\n",
    "from sklearn.decomposition import PCA"
   ]
  },
  {
   "cell_type": "code",
   "execution_count": 55,
   "metadata": {},
   "outputs": [],
   "source": [
    "##정규화 진행과 객체 생성\n",
    "scaler = StandardScaler()"
   ]
  },
  {
   "cell_type": "code",
   "execution_count": 56,
   "metadata": {},
   "outputs": [],
   "source": [
    "#학습\n",
    "scaler.fit(data)\n",
    "#변환\n",
    "scaler_data = scaler.transform(data)"
   ]
  },
  {
   "cell_type": "code",
   "execution_count": 57,
   "metadata": {},
   "outputs": [],
   "source": [
    "#객체 생성\n",
    "pca = PCA(n_components = 2)"
   ]
  },
  {
   "cell_type": "code",
   "execution_count": 58,
   "metadata": {},
   "outputs": [
    {
     "data": {
      "text/plain": [
       "PCA(copy=True, iterated_power='auto', n_components=2, random_state=None,\n",
       "    svd_solver='auto', tol=0.0, whiten=False)"
      ]
     },
     "execution_count": 58,
     "metadata": {},
     "output_type": "execute_result"
    }
   ],
   "source": [
    "#PCA 학습시키기\n",
    "pca.fit(scaler_data)"
   ]
  },
  {
   "cell_type": "code",
   "execution_count": 59,
   "metadata": {},
   "outputs": [
    {
     "data": {
      "text/plain": [
       "array([[-2.09723388, -0.72017904],\n",
       "       [-1.456003  , -0.94769427],\n",
       "       [-2.07345404, -0.62533575],\n",
       "       ...,\n",
       "       [-0.31128314, -1.39524641],\n",
       "       [-0.26939083, -1.35059004],\n",
       "       [-0.12452556, -1.34293829]])"
      ]
     },
     "execution_count": 59,
     "metadata": {},
     "output_type": "execute_result"
    }
   ],
   "source": [
    "##결과값 확인\n",
    "pca.transform(scaler_data)"
   ]
  },
  {
   "cell_type": "code",
   "execution_count": 60,
   "metadata": {},
   "outputs": [],
   "source": [
    "##군집화하려면 데이터프레임 형태여야하니까 변환\n",
    "data2 = pd.DataFrame(pca.transform(scaler_data), columns = ['pc1','pc2'])"
   ]
  },
  {
   "cell_type": "code",
   "execution_count": 61,
   "metadata": {},
   "outputs": [
    {
     "data": {
      "text/html": [
       "<div>\n",
       "<style scoped>\n",
       "    .dataframe tbody tr th:only-of-type {\n",
       "        vertical-align: middle;\n",
       "    }\n",
       "\n",
       "    .dataframe tbody tr th {\n",
       "        vertical-align: top;\n",
       "    }\n",
       "\n",
       "    .dataframe thead th {\n",
       "        text-align: right;\n",
       "    }\n",
       "</style>\n",
       "<table border=\"1\" class=\"dataframe\">\n",
       "  <thead>\n",
       "    <tr style=\"text-align: right;\">\n",
       "      <th></th>\n",
       "      <th>pc1</th>\n",
       "      <th>pc2</th>\n",
       "    </tr>\n",
       "  </thead>\n",
       "  <tbody>\n",
       "    <tr>\n",
       "      <th>0</th>\n",
       "      <td>-2.097234</td>\n",
       "      <td>-0.720179</td>\n",
       "    </tr>\n",
       "    <tr>\n",
       "      <th>1</th>\n",
       "      <td>-1.456003</td>\n",
       "      <td>-0.947694</td>\n",
       "    </tr>\n",
       "    <tr>\n",
       "      <th>2</th>\n",
       "      <td>-2.073454</td>\n",
       "      <td>-0.625336</td>\n",
       "    </tr>\n",
       "    <tr>\n",
       "      <th>3</th>\n",
       "      <td>-2.610161</td>\n",
       "      <td>-0.134044</td>\n",
       "    </tr>\n",
       "    <tr>\n",
       "      <th>4</th>\n",
       "      <td>-2.456866</td>\n",
       "      <td>-0.229919</td>\n",
       "    </tr>\n",
       "  </tbody>\n",
       "</table>\n",
       "</div>"
      ],
      "text/plain": [
       "        pc1       pc2\n",
       "0 -2.097234 -0.720179\n",
       "1 -1.456003 -0.947694\n",
       "2 -2.073454 -0.625336\n",
       "3 -2.610161 -0.134044\n",
       "4 -2.456866 -0.229919"
      ]
     },
     "execution_count": 61,
     "metadata": {},
     "output_type": "execute_result"
    }
   ],
   "source": [
    "data2.head()"
   ]
  },
  {
   "cell_type": "code",
   "execution_count": 62,
   "metadata": {},
   "outputs": [],
   "source": [
    "##엘보포인트를 먼저 찾아보자\n",
    "# KMeans(n_cluster = k ) k 개 군집화 할거에요\n",
    "# KMeans.fit() 학습시키기\n",
    "# KMeans.inertia_ 응집도 확인 , 이때 inertia가 군집 중심까지의 거리이므로 낮을수록 군집화가 더 잘된것\n",
    "# KMeans.predict(data) 학습된 데이터를 기반으로 변환"
   ]
  },
  {
   "cell_type": "code",
   "execution_count": 63,
   "metadata": {},
   "outputs": [],
   "source": [
    " #라이브러리 불러오기\n",
    "from sklearn.cluster import KMeans"
   ]
  },
  {
   "cell_type": "code",
   "execution_count": 64,
   "metadata": {},
   "outputs": [],
   "source": [
    "x = [] #k가 몇개인지\n",
    "y = [] #응집도 \n",
    "\n",
    "for k in range(1,31):\n",
    "    kmeans = KMeans(n_clusters = k)\n",
    "    kmeans.fit(data2)\n",
    "    \n",
    "    x.append(k)\n",
    "    y.append(kmeans.inertia_)"
   ]
  },
  {
   "cell_type": "code",
   "execution_count": 65,
   "metadata": {},
   "outputs": [
    {
     "data": {
      "text/plain": [
       "[3779.414230365951,\n",
       " 1428.2418998744047,\n",
       " 776.2688476691682,\n",
       " 517.339316456147,\n",
       " 401.2440394722096,\n",
       " 299.3385910968542,\n",
       " 236.06369060796504,\n",
       " 204.39704207154819,\n",
       " 184.13807269888932,\n",
       " 157.90278493802506,\n",
       " 147.5369643822043,\n",
       " 134.14903876069627,\n",
       " 126.57920886351533,\n",
       " 115.92068040486011,\n",
       " 108.00462511368407,\n",
       " 101.90588525256324,\n",
       " 94.50383589053726,\n",
       " 88.30190467587775,\n",
       " 84.68436143843365,\n",
       " 80.26703699769952,\n",
       " 75.11029815267204,\n",
       " 69.1241376719087,\n",
       " 66.42372601840597,\n",
       " 63.27729052676325,\n",
       " 62.970979346555524,\n",
       " 58.361304861667826,\n",
       " 56.368018870550614,\n",
       " 55.001003484998535,\n",
       " 52.4549070219424,\n",
       " 50.5281973954626]"
      ]
     },
     "execution_count": 65,
     "metadata": {},
     "output_type": "execute_result"
    }
   ],
   "source": [
    "y"
   ]
  },
  {
   "cell_type": "code",
   "execution_count": 69,
   "metadata": {},
   "outputs": [
    {
     "data": {
      "text/plain": [
       "[<matplotlib.lines.Line2D at 0x2ac16dc6508>]"
      ]
     },
     "execution_count": 69,
     "metadata": {},
     "output_type": "execute_result"
    },
    {
     "data": {
      "image/png": "[encoded data removed]",
      "text/plain": [
       "<Figure size 432x288 with 1 Axes>"
      ]
     },
     "metadata": {
      "needs_background": "light"
     },
     "output_type": "display_data"
    }
   ],
   "source": [
    "plt.plot(x, y)\n",
    "##4까지 하면 괜찮겠네"
   ]
  },
  {
   "cell_type": "code",
   "execution_count": 70,
   "metadata": {},
   "outputs": [],
   "source": [
    "kmeans = KMeans(n_clusters = 4)"
   ]
  },
  {
   "cell_type": "code",
   "execution_count": 71,
   "metadata": {},
   "outputs": [
    {
     "data": {
      "text/plain": [
       "KMeans(algorithm='auto', copy_x=True, init='k-means++', max_iter=300,\n",
       "       n_clusters=4, n_init=10, n_jobs=None, precompute_distances='auto',\n",
       "       random_state=None, tol=0.0001, verbose=0)"
      ]
     },
     "execution_count": 71,
     "metadata": {},
     "output_type": "execute_result"
    }
   ],
   "source": [
    "kmeans.fit(data2)"
   ]
  },
  {
   "cell_type": "code",
   "execution_count": 72,
   "metadata": {},
   "outputs": [],
   "source": [
    "data2['labels'] = kmeans.predict(data2)"
   ]
  },
  {
   "cell_type": "code",
   "execution_count": 73,
   "metadata": {},
   "outputs": [
    {
     "data": {
      "text/html": [
       "<div>\n",
       "<style scoped>\n",
       "    .dataframe tbody tr th:only-of-type {\n",
       "        vertical-align: middle;\n",
       "    }\n",
       "\n",
       "    .dataframe tbody tr th {\n",
       "        vertical-align: top;\n",
       "    }\n",
       "\n",
       "    .dataframe thead th {\n",
       "        text-align: right;\n",
       "    }\n",
       "</style>\n",
       "<table border=\"1\" class=\"dataframe\">\n",
       "  <thead>\n",
       "    <tr style=\"text-align: right;\">\n",
       "      <th></th>\n",
       "      <th>pc1</th>\n",
       "      <th>pc2</th>\n",
       "      <th>labels</th>\n",
       "    </tr>\n",
       "  </thead>\n",
       "  <tbody>\n",
       "    <tr>\n",
       "      <th>0</th>\n",
       "      <td>-2.097234</td>\n",
       "      <td>-0.720179</td>\n",
       "      <td>3</td>\n",
       "    </tr>\n",
       "    <tr>\n",
       "      <th>1</th>\n",
       "      <td>-1.456003</td>\n",
       "      <td>-0.947694</td>\n",
       "      <td>3</td>\n",
       "    </tr>\n",
       "    <tr>\n",
       "      <th>2</th>\n",
       "      <td>-2.073454</td>\n",
       "      <td>-0.625336</td>\n",
       "      <td>3</td>\n",
       "    </tr>\n",
       "    <tr>\n",
       "      <th>3</th>\n",
       "      <td>-2.610161</td>\n",
       "      <td>-0.134044</td>\n",
       "      <td>3</td>\n",
       "    </tr>\n",
       "    <tr>\n",
       "      <th>4</th>\n",
       "      <td>-2.456866</td>\n",
       "      <td>-0.229919</td>\n",
       "      <td>3</td>\n",
       "    </tr>\n",
       "  </tbody>\n",
       "</table>\n",
       "</div>"
      ],
      "text/plain": [
       "        pc1       pc2  labels\n",
       "0 -2.097234 -0.720179       3\n",
       "1 -1.456003 -0.947694       3\n",
       "2 -2.073454 -0.625336       3\n",
       "3 -2.610161 -0.134044       3\n",
       "4 -2.456866 -0.229919       3"
      ]
     },
     "execution_count": 73,
     "metadata": {},
     "output_type": "execute_result"
    }
   ],
   "source": [
    "data2.head()\n",
    "##labels에서 0은 그룹임"
   ]
  },
  {
   "cell_type": "code",
   "execution_count": 74,
   "metadata": {},
   "outputs": [
    {
     "data": {
      "text/plain": [
       "<matplotlib.axes._subplots.AxesSubplot at 0x2ac16e16ac8>"
      ]
     },
     "execution_count": 74,
     "metadata": {},
     "output_type": "execute_result"
    },
    {
     "data": {
      "image/png": "[encoded data removed]",
      "text/plain": [
       "<Figure size 432x288 with 1 Axes>"
      ]
     },
     "metadata": {
      "needs_background": "light"
     },
     "output_type": "display_data"
    }
   ],
   "source": [
    "#hue는 구분자\n",
    "sns.scatterplot(x='pc1', y = 'pc2', hue = 'labels', data = data2)"
   ]
  },
  {
   "cell_type": "code",
   "execution_count": 75,
   "metadata": {},
   "outputs": [],
   "source": [
    "data2['medv']=medv"
   ]
  },
  {
   "cell_type": "code",
   "execution_count": 76,
   "metadata": {},
   "outputs": [
    {
     "data": {
      "text/html": [
       "<div>\n",
       "<style scoped>\n",
       "    .dataframe tbody tr th:only-of-type {\n",
       "        vertical-align: middle;\n",
       "    }\n",
       "\n",
       "    .dataframe tbody tr th {\n",
       "        vertical-align: top;\n",
       "    }\n",
       "\n",
       "    .dataframe thead th {\n",
       "        text-align: right;\n",
       "    }\n",
       "</style>\n",
       "<table border=\"1\" class=\"dataframe\">\n",
       "  <thead>\n",
       "    <tr style=\"text-align: right;\">\n",
       "      <th></th>\n",
       "      <th>pc1</th>\n",
       "      <th>pc2</th>\n",
       "      <th>labels</th>\n",
       "      <th>medv</th>\n",
       "    </tr>\n",
       "  </thead>\n",
       "  <tbody>\n",
       "    <tr>\n",
       "      <th>0</th>\n",
       "      <td>-2.097234</td>\n",
       "      <td>-0.720179</td>\n",
       "      <td>3</td>\n",
       "      <td>24.0</td>\n",
       "    </tr>\n",
       "    <tr>\n",
       "      <th>1</th>\n",
       "      <td>-1.456003</td>\n",
       "      <td>-0.947694</td>\n",
       "      <td>3</td>\n",
       "      <td>21.6</td>\n",
       "    </tr>\n",
       "    <tr>\n",
       "      <th>2</th>\n",
       "      <td>-2.073454</td>\n",
       "      <td>-0.625336</td>\n",
       "      <td>3</td>\n",
       "      <td>34.7</td>\n",
       "    </tr>\n",
       "    <tr>\n",
       "      <th>3</th>\n",
       "      <td>-2.610161</td>\n",
       "      <td>-0.134044</td>\n",
       "      <td>3</td>\n",
       "      <td>33.4</td>\n",
       "    </tr>\n",
       "    <tr>\n",
       "      <th>4</th>\n",
       "      <td>-2.456866</td>\n",
       "      <td>-0.229919</td>\n",
       "      <td>3</td>\n",
       "      <td>36.2</td>\n",
       "    </tr>\n",
       "  </tbody>\n",
       "</table>\n",
       "</div>"
      ],
      "text/plain": [
       "        pc1       pc2  labels  medv\n",
       "0 -2.097234 -0.720179       3  24.0\n",
       "1 -1.456003 -0.947694       3  21.6\n",
       "2 -2.073454 -0.625336       3  34.7\n",
       "3 -2.610161 -0.134044       3  33.4\n",
       "4 -2.456866 -0.229919       3  36.2"
      ]
     },
     "execution_count": 76,
     "metadata": {},
     "output_type": "execute_result"
    }
   ],
   "source": [
    "data2.head()"
   ]
  },
  {
   "cell_type": "code",
   "execution_count": 78,
   "metadata": {},
   "outputs": [
    {
     "data": {
      "text/plain": [
       "19.769827586206887"
      ]
     },
     "execution_count": 78,
     "metadata": {},
     "output_type": "execute_result"
    }
   ],
   "source": [
    "data2[data2['labels']==0]['medv'].mean()"
   ]
  },
  {
   "cell_type": "code",
   "execution_count": 79,
   "metadata": {},
   "outputs": [],
   "source": [
    "##시각화를 위해 각 그룹별 medv값을 따로 변수로 생성\n",
    "medv_0 =data2[data2['labels']==0]['medv'].mean()\n",
    "medv_1 =data2[data2['labels']==1]['medv'].mean()\n",
    "medv_2 =data2[data2['labels']==2]['medv'].mean()\n",
    "medv_3 =data2[data2['labels']==3]['medv'].mean()"
   ]
  },
  {
   "cell_type": "code",
   "execution_count": 80,
   "metadata": {},
   "outputs": [
    {
     "data": {
      "text/plain": [
       "<matplotlib.axes._subplots.AxesSubplot at 0x2ac16ec1248>"
      ]
     },
     "execution_count": 80,
     "metadata": {},
     "output_type": "execute_result"
    },
    {
     "data": {
      "image/png": "[encoded data removed]",
      "text/plain": [
       "<Figure size 432x288 with 1 Axes>"
      ]
     },
     "metadata": {
      "needs_background": "light"
     },
     "output_type": "display_data"
    }
   ],
   "source": [
    "sns.barplot(x= ['group_0', 'group_1', 'group_2', 'group_3'], y = [medv_0, medv_1, medv_2, medv_3])"
   ]
  },
  {
   "cell_type": "code",
   "execution_count": 83,
   "metadata": {},
   "outputs": [],
   "source": [
    "##그룹별 특성분석을 위해 원본데이터에 라벨 넣기\n",
    "data['labels'] = data2['labels']"
   ]
  },
  {
   "cell_type": "code",
   "execution_count": 84,
   "metadata": {},
   "outputs": [],
   "source": [
    "#각 그룹데이터를 나눠 담자\n",
    "group = data[(data['labels']==1) |(data['labels']==2) ]"
   ]
  },
  {
   "cell_type": "code",
   "execution_count": 85,
   "metadata": {
    "scrolled": true
   },
   "outputs": [
    {
     "data": {
      "text/html": [
       "<div>\n",
       "<style scoped>\n",
       "    .dataframe tbody tr th:only-of-type {\n",
       "        vertical-align: middle;\n",
       "    }\n",
       "\n",
       "    .dataframe tbody tr th {\n",
       "        vertical-align: top;\n",
       "    }\n",
       "\n",
       "    .dataframe thead th {\n",
       "        text-align: right;\n",
       "    }\n",
       "</style>\n",
       "<table border=\"1\" class=\"dataframe\">\n",
       "  <thead>\n",
       "    <tr style=\"text-align: right;\">\n",
       "      <th></th>\n",
       "      <th>crim</th>\n",
       "      <th>zn</th>\n",
       "      <th>indus</th>\n",
       "      <th>nox</th>\n",
       "      <th>rm</th>\n",
       "      <th>age</th>\n",
       "      <th>dis</th>\n",
       "      <th>rad</th>\n",
       "      <th>tax</th>\n",
       "      <th>ptratio</th>\n",
       "      <th>b</th>\n",
       "      <th>lstat</th>\n",
       "      <th>labels</th>\n",
       "    </tr>\n",
       "  </thead>\n",
       "  <tbody>\n",
       "    <tr>\n",
       "      <th>39</th>\n",
       "      <td>0.02763</td>\n",
       "      <td>75.0</td>\n",
       "      <td>2.95</td>\n",
       "      <td>0.428</td>\n",
       "      <td>6.595</td>\n",
       "      <td>21.8</td>\n",
       "      <td>5.4011</td>\n",
       "      <td>3.0</td>\n",
       "      <td>252.0</td>\n",
       "      <td>18.3</td>\n",
       "      <td>395.63</td>\n",
       "      <td>4.32</td>\n",
       "      <td>1</td>\n",
       "    </tr>\n",
       "    <tr>\n",
       "      <th>40</th>\n",
       "      <td>0.03359</td>\n",
       "      <td>75.0</td>\n",
       "      <td>2.95</td>\n",
       "      <td>0.428</td>\n",
       "      <td>7.024</td>\n",
       "      <td>15.8</td>\n",
       "      <td>5.4011</td>\n",
       "      <td>3.0</td>\n",
       "      <td>252.0</td>\n",
       "      <td>18.3</td>\n",
       "      <td>395.62</td>\n",
       "      <td>1.98</td>\n",
       "      <td>1</td>\n",
       "    </tr>\n",
       "    <tr>\n",
       "      <th>41</th>\n",
       "      <td>0.12744</td>\n",
       "      <td>0.0</td>\n",
       "      <td>6.91</td>\n",
       "      <td>0.448</td>\n",
       "      <td>6.770</td>\n",
       "      <td>2.9</td>\n",
       "      <td>5.7209</td>\n",
       "      <td>3.0</td>\n",
       "      <td>233.0</td>\n",
       "      <td>17.9</td>\n",
       "      <td>385.41</td>\n",
       "      <td>4.84</td>\n",
       "      <td>1</td>\n",
       "    </tr>\n",
       "    <tr>\n",
       "      <th>52</th>\n",
       "      <td>0.05360</td>\n",
       "      <td>21.0</td>\n",
       "      <td>5.64</td>\n",
       "      <td>0.439</td>\n",
       "      <td>6.511</td>\n",
       "      <td>21.1</td>\n",
       "      <td>6.8147</td>\n",
       "      <td>4.0</td>\n",
       "      <td>243.0</td>\n",
       "      <td>16.8</td>\n",
       "      <td>396.90</td>\n",
       "      <td>5.28</td>\n",
       "      <td>1</td>\n",
       "    </tr>\n",
       "    <tr>\n",
       "      <th>53</th>\n",
       "      <td>0.04981</td>\n",
       "      <td>21.0</td>\n",
       "      <td>5.64</td>\n",
       "      <td>0.439</td>\n",
       "      <td>5.998</td>\n",
       "      <td>21.4</td>\n",
       "      <td>6.8147</td>\n",
       "      <td>4.0</td>\n",
       "      <td>243.0</td>\n",
       "      <td>16.8</td>\n",
       "      <td>396.90</td>\n",
       "      <td>8.43</td>\n",
       "      <td>1</td>\n",
       "    </tr>\n",
       "    <tr>\n",
       "      <th>...</th>\n",
       "      <td>...</td>\n",
       "      <td>...</td>\n",
       "      <td>...</td>\n",
       "      <td>...</td>\n",
       "      <td>...</td>\n",
       "      <td>...</td>\n",
       "      <td>...</td>\n",
       "      <td>...</td>\n",
       "      <td>...</td>\n",
       "      <td>...</td>\n",
       "      <td>...</td>\n",
       "      <td>...</td>\n",
       "      <td>...</td>\n",
       "    </tr>\n",
       "    <tr>\n",
       "      <th>485</th>\n",
       "      <td>3.67367</td>\n",
       "      <td>0.0</td>\n",
       "      <td>18.10</td>\n",
       "      <td>0.583</td>\n",
       "      <td>6.312</td>\n",
       "      <td>51.9</td>\n",
       "      <td>3.9917</td>\n",
       "      <td>24.0</td>\n",
       "      <td>666.0</td>\n",
       "      <td>20.2</td>\n",
       "      <td>388.62</td>\n",
       "      <td>10.58</td>\n",
       "      <td>2</td>\n",
       "    </tr>\n",
       "    <tr>\n",
       "      <th>486</th>\n",
       "      <td>5.69175</td>\n",
       "      <td>0.0</td>\n",
       "      <td>18.10</td>\n",
       "      <td>0.583</td>\n",
       "      <td>6.114</td>\n",
       "      <td>79.8</td>\n",
       "      <td>3.5459</td>\n",
       "      <td>24.0</td>\n",
       "      <td>666.0</td>\n",
       "      <td>20.2</td>\n",
       "      <td>392.68</td>\n",
       "      <td>14.98</td>\n",
       "      <td>2</td>\n",
       "    </tr>\n",
       "    <tr>\n",
       "      <th>487</th>\n",
       "      <td>4.83567</td>\n",
       "      <td>0.0</td>\n",
       "      <td>18.10</td>\n",
       "      <td>0.583</td>\n",
       "      <td>5.905</td>\n",
       "      <td>53.2</td>\n",
       "      <td>3.1523</td>\n",
       "      <td>24.0</td>\n",
       "      <td>666.0</td>\n",
       "      <td>20.2</td>\n",
       "      <td>388.22</td>\n",
       "      <td>11.45</td>\n",
       "      <td>2</td>\n",
       "    </tr>\n",
       "    <tr>\n",
       "      <th>489</th>\n",
       "      <td>0.18337</td>\n",
       "      <td>0.0</td>\n",
       "      <td>27.74</td>\n",
       "      <td>0.609</td>\n",
       "      <td>5.414</td>\n",
       "      <td>98.3</td>\n",
       "      <td>1.7554</td>\n",
       "      <td>4.0</td>\n",
       "      <td>711.0</td>\n",
       "      <td>20.1</td>\n",
       "      <td>344.05</td>\n",
       "      <td>23.97</td>\n",
       "      <td>2</td>\n",
       "    </tr>\n",
       "    <tr>\n",
       "      <th>490</th>\n",
       "      <td>0.20746</td>\n",
       "      <td>0.0</td>\n",
       "      <td>27.74</td>\n",
       "      <td>0.609</td>\n",
       "      <td>5.093</td>\n",
       "      <td>98.0</td>\n",
       "      <td>1.8226</td>\n",
       "      <td>4.0</td>\n",
       "      <td>711.0</td>\n",
       "      <td>20.1</td>\n",
       "      <td>318.43</td>\n",
       "      <td>29.68</td>\n",
       "      <td>2</td>\n",
       "    </tr>\n",
       "  </tbody>\n",
       "</table>\n",
       "<p>222 rows × 13 columns</p>\n",
       "</div>"
      ],
      "text/plain": [
       "        crim    zn  indus    nox     rm   age     dis   rad    tax  ptratio  \\\n",
       "39   0.02763  75.0   2.95  0.428  6.595  21.8  5.4011   3.0  252.0     18.3   \n",
       "40   0.03359  75.0   2.95  0.428  7.024  15.8  5.4011   3.0  252.0     18.3   \n",
       "41   0.12744   0.0   6.91  0.448  6.770   2.9  5.7209   3.0  233.0     17.9   \n",
       "52   0.05360  21.0   5.64  0.439  6.511  21.1  6.8147   4.0  243.0     16.8   \n",
       "53   0.04981  21.0   5.64  0.439  5.998  21.4  6.8147   4.0  243.0     16.8   \n",
       "..       ...   ...    ...    ...    ...   ...     ...   ...    ...      ...   \n",
       "485  3.67367   0.0  18.10  0.583  6.312  51.9  3.9917  24.0  666.0     20.2   \n",
       "486  5.69175   0.0  18.10  0.583  6.114  79.8  3.5459  24.0  666.0     20.2   \n",
       "487  4.83567   0.0  18.10  0.583  5.905  53.2  3.1523  24.0  666.0     20.2   \n",
       "489  0.18337   0.0  27.74  0.609  5.414  98.3  1.7554   4.0  711.0     20.1   \n",
       "490  0.20746   0.0  27.74  0.609  5.093  98.0  1.8226   4.0  711.0     20.1   \n",
       "\n",
       "          b  lstat  labels  \n",
       "39   395.63   4.32       1  \n",
       "40   395.62   1.98       1  \n",
       "41   385.41   4.84       1  \n",
       "52   396.90   5.28       1  \n",
       "53   396.90   8.43       1  \n",
       "..      ...    ...     ...  \n",
       "485  388.62  10.58       2  \n",
       "486  392.68  14.98       2  \n",
       "487  388.22  11.45       2  \n",
       "489  344.05  23.97       2  \n",
       "490  318.43  29.68       2  \n",
       "\n",
       "[222 rows x 13 columns]"
      ]
     },
     "execution_count": 85,
     "metadata": {},
     "output_type": "execute_result"
    }
   ],
   "source": [
    "group"
   ]
  },
  {
   "cell_type": "code",
   "execution_count": 89,
   "metadata": {},
   "outputs": [
    {
     "data": {
      "text/html": [
       "<div>\n",
       "<style scoped>\n",
       "    .dataframe tbody tr th:only-of-type {\n",
       "        vertical-align: middle;\n",
       "    }\n",
       "\n",
       "    .dataframe tbody tr th {\n",
       "        vertical-align: top;\n",
       "    }\n",
       "\n",
       "    .dataframe thead th {\n",
       "        text-align: right;\n",
       "    }\n",
       "</style>\n",
       "<table border=\"1\" class=\"dataframe\">\n",
       "  <thead>\n",
       "    <tr style=\"text-align: right;\">\n",
       "      <th></th>\n",
       "      <th>crim</th>\n",
       "      <th>zn</th>\n",
       "      <th>indus</th>\n",
       "      <th>nox</th>\n",
       "      <th>rm</th>\n",
       "      <th>age</th>\n",
       "      <th>dis</th>\n",
       "      <th>rad</th>\n",
       "      <th>tax</th>\n",
       "      <th>ptratio</th>\n",
       "      <th>b</th>\n",
       "      <th>lstat</th>\n",
       "    </tr>\n",
       "    <tr>\n",
       "      <th>labels</th>\n",
       "      <th></th>\n",
       "      <th></th>\n",
       "      <th></th>\n",
       "      <th></th>\n",
       "      <th></th>\n",
       "      <th></th>\n",
       "      <th></th>\n",
       "      <th></th>\n",
       "      <th></th>\n",
       "      <th></th>\n",
       "      <th></th>\n",
       "      <th></th>\n",
       "    </tr>\n",
       "  </thead>\n",
       "  <tbody>\n",
       "    <tr>\n",
       "      <th>1</th>\n",
       "      <td>0.065128</td>\n",
       "      <td>54.1875</td>\n",
       "      <td>3.750909</td>\n",
       "      <td>0.423147</td>\n",
       "      <td>6.722830</td>\n",
       "      <td>29.660227</td>\n",
       "      <td>6.91729</td>\n",
       "      <td>4.159091</td>\n",
       "      <td>305.420455</td>\n",
       "      <td>16.982955</td>\n",
       "      <td>389.006818</td>\n",
       "      <td>6.153409</td>\n",
       "    </tr>\n",
       "    <tr>\n",
       "      <th>2</th>\n",
       "      <td>12.571770</td>\n",
       "      <td>0.0000</td>\n",
       "      <td>18.243881</td>\n",
       "      <td>0.671470</td>\n",
       "      <td>6.010679</td>\n",
       "      <td>89.929851</td>\n",
       "      <td>2.05719</td>\n",
       "      <td>23.701493</td>\n",
       "      <td>666.671642</td>\n",
       "      <td>20.198507</td>\n",
       "      <td>288.733209</td>\n",
       "      <td>18.723358</td>\n",
       "    </tr>\n",
       "  </tbody>\n",
       "</table>\n",
       "</div>"
      ],
      "text/plain": [
       "             crim       zn      indus       nox        rm        age      dis  \\\n",
       "labels                                                                          \n",
       "1        0.065128  54.1875   3.750909  0.423147  6.722830  29.660227  6.91729   \n",
       "2       12.571770   0.0000  18.243881  0.671470  6.010679  89.929851  2.05719   \n",
       "\n",
       "              rad         tax    ptratio           b      lstat  \n",
       "labels                                                           \n",
       "1        4.159091  305.420455  16.982955  389.006818   6.153409  \n",
       "2       23.701493  666.671642  20.198507  288.733209  18.723358  "
      ]
     },
     "execution_count": 89,
     "metadata": {},
     "output_type": "execute_result"
    }
   ],
   "source": [
    "##group이라는 변수가 지금 라벨 1,2를 같이 넣었지 얘들을 groupby함수를 이용해 labels을 기준으로 묶을 거야\n",
    "group.groupby('labels').mean()"
   ]
  },
  {
   "cell_type": "code",
   "execution_count": 90,
   "metadata": {},
   "outputs": [],
   "source": [
    "##라벨을 컬럼으로 꺼내야 그래프를 그릴 수 있어\n",
    "group = group.groupby('labels').mean().reset_index()"
   ]
  },
  {
   "cell_type": "code",
   "execution_count": 91,
   "metadata": {},
   "outputs": [
    {
     "data": {
      "text/html": [
       "<div>\n",
       "<style scoped>\n",
       "    .dataframe tbody tr th:only-of-type {\n",
       "        vertical-align: middle;\n",
       "    }\n",
       "\n",
       "    .dataframe tbody tr th {\n",
       "        vertical-align: top;\n",
       "    }\n",
       "\n",
       "    .dataframe thead th {\n",
       "        text-align: right;\n",
       "    }\n",
       "</style>\n",
       "<table border=\"1\" class=\"dataframe\">\n",
       "  <thead>\n",
       "    <tr style=\"text-align: right;\">\n",
       "      <th></th>\n",
       "      <th>labels</th>\n",
       "      <th>crim</th>\n",
       "      <th>zn</th>\n",
       "      <th>indus</th>\n",
       "      <th>nox</th>\n",
       "      <th>rm</th>\n",
       "      <th>age</th>\n",
       "      <th>dis</th>\n",
       "      <th>rad</th>\n",
       "      <th>tax</th>\n",
       "      <th>ptratio</th>\n",
       "      <th>b</th>\n",
       "      <th>lstat</th>\n",
       "    </tr>\n",
       "  </thead>\n",
       "  <tbody>\n",
       "    <tr>\n",
       "      <th>0</th>\n",
       "      <td>1</td>\n",
       "      <td>0.065128</td>\n",
       "      <td>54.1875</td>\n",
       "      <td>3.750909</td>\n",
       "      <td>0.423147</td>\n",
       "      <td>6.722830</td>\n",
       "      <td>29.660227</td>\n",
       "      <td>6.91729</td>\n",
       "      <td>4.159091</td>\n",
       "      <td>305.420455</td>\n",
       "      <td>16.982955</td>\n",
       "      <td>389.006818</td>\n",
       "      <td>6.153409</td>\n",
       "    </tr>\n",
       "    <tr>\n",
       "      <th>1</th>\n",
       "      <td>2</td>\n",
       "      <td>12.571770</td>\n",
       "      <td>0.0000</td>\n",
       "      <td>18.243881</td>\n",
       "      <td>0.671470</td>\n",
       "      <td>6.010679</td>\n",
       "      <td>89.929851</td>\n",
       "      <td>2.05719</td>\n",
       "      <td>23.701493</td>\n",
       "      <td>666.671642</td>\n",
       "      <td>20.198507</td>\n",
       "      <td>288.733209</td>\n",
       "      <td>18.723358</td>\n",
       "    </tr>\n",
       "  </tbody>\n",
       "</table>\n",
       "</div>"
      ],
      "text/plain": [
       "   labels       crim       zn      indus       nox        rm        age  \\\n",
       "0       1   0.065128  54.1875   3.750909  0.423147  6.722830  29.660227   \n",
       "1       2  12.571770   0.0000  18.243881  0.671470  6.010679  89.929851   \n",
       "\n",
       "       dis        rad         tax    ptratio           b      lstat  \n",
       "0  6.91729   4.159091  305.420455  16.982955  389.006818   6.153409  \n",
       "1  2.05719  23.701493  666.671642  20.198507  288.733209  18.723358  "
      ]
     },
     "execution_count": 91,
     "metadata": {},
     "output_type": "execute_result"
    }
   ],
   "source": [
    "group"
   ]
  },
  {
   "cell_type": "code",
   "execution_count": 95,
   "metadata": {},
   "outputs": [
    {
     "data": {
      "text/plain": [
       "<matplotlib.axes._subplots.AxesSubplot at 0x2ac18031b48>"
      ]
     },
     "execution_count": 95,
     "metadata": {},
     "output_type": "execute_result"
    },
    {
     "data": {
      "image/png": "[encoded data removed]",
      "text/plain": [
       "<Figure size 1440x936 with 12 Axes>"
      ]
     },
     "metadata": {
      "needs_background": "light"
     },
     "output_type": "display_data"
    }
   ],
   "source": [
    "##시각화를 위해 subplot을 이용해보겠습니다.\n",
    "##여러 그래프를 하나의 플랏에서 그리는..\n",
    "## 2행 6열\n",
    "f, ax = plt.subplots(2,6, figsize = (20 , 13))\n",
    "##그릴을 채울려면  f, ax를 써야하는데\n",
    "## ax가 자리를 설정\n",
    "sns.barplot(x= 'labels', y = 'crim', data = group, ax = ax[0,0])\n",
    "sns.barplot(x= 'labels', y = 'zn', data = group, ax = ax[0,1])"
   ]
  },
  {
   "cell_type": "code",
   "execution_count": 99,
   "metadata": {},
   "outputs": [],
   "source": [
    "column = group.columns"
   ]
  },
  {
   "cell_type": "code",
   "execution_count": 102,
   "metadata": {},
   "outputs": [
    {
     "data": {
      "text/plain": [
       "Index(['labels', 'crim', 'zn', 'indus', 'nox', 'rm', 'age', 'dis', 'rad',\n",
       "       'tax', 'ptratio', 'b', 'lstat'],\n",
       "      dtype='object')"
      ]
     },
     "execution_count": 102,
     "metadata": {},
     "output_type": "execute_result"
    }
   ],
   "source": [
    "column"
   ]
  },
  {
   "cell_type": "code",
   "execution_count": 101,
   "metadata": {},
   "outputs": [
    {
     "data": {
      "text/plain": [
       "'crim'"
      ]
     },
     "execution_count": 101,
     "metadata": {},
     "output_type": "execute_result"
    }
   ],
   "source": [
    "column[1]"
   ]
  },
  {
   "cell_type": "code",
   "execution_count": 133,
   "metadata": {
    "scrolled": true
   },
   "outputs": [
    {
     "name": "stdout",
     "output_type": "stream",
     "text": [
      "[0, 0]\n",
      "[0, 1]\n",
      "[0, 2]\n",
      "[0, 3]\n",
      "[0, 4]\n",
      "[0, 5]\n",
      "[1, 0]\n",
      "[1, 1]\n",
      "[1, 2]\n",
      "[1, 3]\n",
      "[1, 4]\n",
      "[1, 5]\n"
     ]
    }
   ],
   "source": [
    "for i in range(1,13):\n",
    "    print([(i-1)//6,(5+i)%6])\n",
    "    "
   ]
  },
  {
   "cell_type": "code",
   "execution_count": 134,
   "metadata": {},
   "outputs": [
    {
     "data": {
      "image/png": "[encoded data removed]",
      "text/plain": [
       "<Figure size 1440x936 with 12 Axes>"
      ]
     },
     "metadata": {
      "needs_background": "light"
     },
     "output_type": "display_data"
    }
   ],
   "source": [
    "##이렇게 그리면 되는데 \n",
    "##언제 12개를 그려 반복문 이용하자\n",
    "f, ax = plt.subplots(2,6, figsize = (20,13))\n",
    "\n",
    "for i in range(1,13):\n",
    "    \n",
    "    sns.barplot(x= 'labels', y = column[i], data = group, ax = ax[(i-1)//6, (5+i)%6 ] )\n",
    "    "
   ]
  },
  {
   "cell_type": "code",
   "execution_count": null,
   "metadata": {},
   "outputs": [],
   "source": [
    "###레이더 차트라는 것 이용하여 시각화를 한번 해보자"
   ]
  },
  {
   "cell_type": "code",
   "execution_count": null,
   "metadata": {},
   "outputs": [],
   "source": [
    "##라벨 인코딩\n",
    "##최상은 0 ,상위 1, 등으로 숫자로 바꾸어 범주화 하는 것,\n",
    "##하지만 범주화를 함부로 수치화하면 문제가 생긴다했다.\n",
    "#### 그럴때는 원핫인코딩을 써보자 (1,0,0,0) (0,1,0,0) 이런식으로 구분하게 만드는 것"
   ]
  },
  {
   "cell_type": "code",
   "execution_count": null,
   "metadata": {},
   "outputs": [],
   "source": []
  },
  {
   "cell_type": "code",
   "execution_count": null,
   "metadata": {},
   "outputs": [],
   "source": []
  },
  {
   "cell_type": "code",
   "execution_count": null,
   "metadata": {},
   "outputs": [],
   "source": []
  }
 ],
 "metadata": {
  "kernelspec": {
   "display_name": "Python 3",
   "language": "python",
   "name": "python3"
  },
  "language_info": {
   "codemirror_mode": {
    "name": "ipython",
    "version": 3
   },
   "file_extension": ".py",
   "mimetype": "text/x-python",
   "name": "python",
   "nbconvert_exporter": "python",
   "pygments_lexer": "ipython3",
   "version": "3.7.6"
  }
 },
 "nbformat": 4,
 "nbformat_minor": 4
}
