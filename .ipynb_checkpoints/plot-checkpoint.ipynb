{
 "cells": [
  {
   "cell_type": "code",
   "execution_count": 1,
   "metadata": {},
   "outputs": [
    {
     "ename": "ModuleNotFoundError",
     "evalue": "No module named 'wrapper'",
     "output_type": "error",
     "traceback": [
      "\u001b[1;31m---------------------------------------------------------------------------\u001b[0m",
      "\u001b[1;31mModuleNotFoundError\u001b[0m                       Traceback (most recent call last)",
      "\u001b[1;32m<ipython-input-1-e25965b4774d>\u001b[0m in \u001b[0;36m<module>\u001b[1;34m\u001b[0m\n\u001b[0;32m      6\u001b[0m \u001b[0msys\u001b[0m\u001b[1;33m.\u001b[0m\u001b[0mpath\u001b[0m\u001b[1;33m.\u001b[0m\u001b[0mappend\u001b[0m\u001b[1;33m(\u001b[0m\u001b[1;34mr'C:\\Users\\pc\\Desktop\\stock\\Modeling\\Basic\\wrapper'\u001b[0m\u001b[1;33m)\u001b[0m\u001b[1;33m\u001b[0m\u001b[1;33m\u001b[0m\u001b[0m\n\u001b[0;32m      7\u001b[0m \u001b[1;33m\u001b[0m\u001b[0m\n\u001b[1;32m----> 8\u001b[1;33m \u001b[1;32mfrom\u001b[0m \u001b[0mwrapper\u001b[0m \u001b[1;32mimport\u001b[0m \u001b[0mdata_pred\u001b[0m\u001b[1;33m\u001b[0m\u001b[1;33m\u001b[0m\u001b[0m\n\u001b[0m\u001b[0;32m      9\u001b[0m \u001b[1;32mfrom\u001b[0m \u001b[0mwrapper\u001b[0m \u001b[1;32mimport\u001b[0m \u001b[0mdata_pred\u001b[0m\u001b[1;33m\u001b[0m\u001b[1;33m\u001b[0m\u001b[0m\n\u001b[0;32m     10\u001b[0m \u001b[1;32mfrom\u001b[0m \u001b[0mwrapper\u001b[0m \u001b[1;32mimport\u001b[0m \u001b[0mvisualization\u001b[0m\u001b[1;33m\u001b[0m\u001b[1;33m\u001b[0m\u001b[0m\n",
      "\u001b[1;31mModuleNotFoundError\u001b[0m: No module named 'wrapper'"
     ]
    }
   ],
   "source": [
    "import matplotlib.pyplot as plt\n",
    "import sys\n",
    "import os\n",
    "import matplotlib as pt\n",
    "pt.use(\"Qt5Agg\")\n",
    "sys.path.append(r'C:\\Users\\pc\\Desktop\\stock\\Modeling\\Basic\\wrapper')\n",
    "\n",
    "from wrapper import data_pred\n",
    "from wrapper import data_pred\n",
    "from wrapper import visualization\n",
    "import wrapper as fs\n",
    "\n",
    "#print(dir())   ####절대경로로 돌려서 불러오고 임포트된거 확인\n",
    "os.chdir(r'C:\\Users\\pc\\Desktop\\stock\\Modeling\\Basic')\n",
    "cd ='S&P 500'\n",
    "path = 'C:/Users/pc/Desktop/stock/Modeling/Basic/data/'\n",
    "ld = data_pred.LoadData()\n",
    "df = ld.read_investing_price(path, cd)\n",
    "\n",
    "## 날짜 처리\n",
    "df1 = ld.date_formatting(df)\n",
    "\n",
    "### price 숫자로 처리\n",
    "df2 = ld.price_formatting(df1)\n",
    "print(df2['Price'])\n",
    "print(df2['Price'][2]+df2['Price'][3])  ### 숫자로 변환 굿\n",
    "\n",
    "### portfolio\n",
    "portfolio = {\n",
    "    'World indices' : ['Kospi 200', 'S&P 500', 'Nikkei 225', 'CSI 300']\n",
    "}   ## 딕셔너리 형태\n",
    "p_name = 'World indices'\n",
    "p_cd = portfolio[p_name]\n",
    "p_df = ld.create_portfolio_df(path, p_name, p_cd)\n",
    "print(p_df.tail())\n",
    "\n",
    "\n",
    "### 시각화\n",
    "plt.show()\n",
    "v = visualization.Visualize()\n",
    "base_date = '2017-03-05'\n",
    "v.index_view(p_df, base_date, p_cd)\n"
   ]
  }
 ],
 "metadata": {
  "kernelspec": {
   "display_name": "Python 3",
   "language": "python",
   "name": "python3"
  },
  "language_info": {
   "codemirror_mode": {
    "name": "ipython",
    "version": 3
   },
   "file_extension": ".py",
   "mimetype": "text/x-python",
   "name": "python",
   "nbconvert_exporter": "python",
   "pygments_lexer": "ipython3",
   "version": "3.7.6"
  }
 },
 "nbformat": 4,
 "nbformat_minor": 4
}
